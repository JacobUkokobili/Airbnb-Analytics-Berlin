{
 "cells": [
  {
   "cell_type": "code",
   "execution_count": 1,
   "metadata": {},
   "outputs": [],
   "source": [
    "import pandas as pd\n",
    "import numpy as np\n",
    "import matplotlib.pyplot as plt\n",
    "import scipy.stats\n",
    "plt.style.use('dark_background')\n"
   ]
  },
  {
   "cell_type": "code",
   "execution_count": 2,
   "metadata": {},
   "outputs": [],
   "source": [
    "listings = pd.read_csv(\"../../cleaned/listings.csv\")\n",
    "calendar_summary = pd.read_csv(\"../../cleaned/calendar_summary.csv\")\n",
    "#legacy (local) directories not available on repo - wrangled/cleaned data uploaded to ivanachille.com/publicdata/Airbnb-Berlin-Analytics"
   ]
  },
  {
   "cell_type": "code",
   "execution_count": 3,
   "metadata": {},
   "outputs": [
    {
     "data": {
      "text/html": [
       "<div>\n",
       "<style scoped>\n",
       "    .dataframe tbody tr th:only-of-type {\n",
       "        vertical-align: middle;\n",
       "    }\n",
       "\n",
       "    .dataframe tbody tr th {\n",
       "        vertical-align: top;\n",
       "    }\n",
       "\n",
       "    .dataframe thead th {\n",
       "        text-align: right;\n",
       "    }\n",
       "</style>\n",
       "<table border=\"1\" class=\"dataframe\">\n",
       "  <thead>\n",
       "    <tr style=\"text-align: right;\">\n",
       "      <th></th>\n",
       "      <th>listing_id</th>\n",
       "      <th>host_id</th>\n",
       "      <th>neighbourhood_group</th>\n",
       "      <th>neighbourhood</th>\n",
       "      <th>latitude</th>\n",
       "      <th>longitude</th>\n",
       "      <th>room_type</th>\n",
       "      <th>price</th>\n",
       "      <th>minimum_nights</th>\n",
       "      <th>number_of_reviews</th>\n",
       "      <th>reviews_per_month</th>\n",
       "      <th>calculated_host_listings_count</th>\n",
       "      <th>availability_365</th>\n",
       "      <th>instant_bookable</th>\n",
       "      <th>is_business_travel_ready</th>\n",
       "      <th>require_guest_phone_verification</th>\n",
       "      <th>require_guest_profile_picture</th>\n",
       "    </tr>\n",
       "  </thead>\n",
       "  <tbody>\n",
       "    <tr>\n",
       "      <th>0</th>\n",
       "      <td>2015</td>\n",
       "      <td>2217</td>\n",
       "      <td>Mitte</td>\n",
       "      <td>Brunnenstr. Süd</td>\n",
       "      <td>52.534537</td>\n",
       "      <td>13.402557</td>\n",
       "      <td>Entire home/apt</td>\n",
       "      <td>60</td>\n",
       "      <td>4</td>\n",
       "      <td>118</td>\n",
       "      <td>3.76</td>\n",
       "      <td>4</td>\n",
       "      <td>141</td>\n",
       "      <td>f</td>\n",
       "      <td>f</td>\n",
       "      <td>f</td>\n",
       "      <td>f</td>\n",
       "    </tr>\n",
       "    <tr>\n",
       "      <th>1</th>\n",
       "      <td>2695</td>\n",
       "      <td>2986</td>\n",
       "      <td>Pankow</td>\n",
       "      <td>Prenzlauer Berg Nordwest</td>\n",
       "      <td>52.548513</td>\n",
       "      <td>13.404553</td>\n",
       "      <td>Private room</td>\n",
       "      <td>17</td>\n",
       "      <td>2</td>\n",
       "      <td>6</td>\n",
       "      <td>1.42</td>\n",
       "      <td>1</td>\n",
       "      <td>0</td>\n",
       "      <td>f</td>\n",
       "      <td>f</td>\n",
       "      <td>f</td>\n",
       "      <td>f</td>\n",
       "    </tr>\n",
       "    <tr>\n",
       "      <th>2</th>\n",
       "      <td>3176</td>\n",
       "      <td>3718</td>\n",
       "      <td>Pankow</td>\n",
       "      <td>Prenzlauer Berg Südwest</td>\n",
       "      <td>52.534996</td>\n",
       "      <td>13.417579</td>\n",
       "      <td>Entire home/apt</td>\n",
       "      <td>90</td>\n",
       "      <td>62</td>\n",
       "      <td>143</td>\n",
       "      <td>1.25</td>\n",
       "      <td>1</td>\n",
       "      <td>220</td>\n",
       "      <td>t</td>\n",
       "      <td>f</td>\n",
       "      <td>f</td>\n",
       "      <td>f</td>\n",
       "    </tr>\n",
       "    <tr>\n",
       "      <th>3</th>\n",
       "      <td>3309</td>\n",
       "      <td>4108</td>\n",
       "      <td>Tempelhof - Schöneberg</td>\n",
       "      <td>Schöneberg-Nord</td>\n",
       "      <td>52.498855</td>\n",
       "      <td>13.349065</td>\n",
       "      <td>Private room</td>\n",
       "      <td>26</td>\n",
       "      <td>5</td>\n",
       "      <td>25</td>\n",
       "      <td>0.39</td>\n",
       "      <td>1</td>\n",
       "      <td>297</td>\n",
       "      <td>f</td>\n",
       "      <td>f</td>\n",
       "      <td>f</td>\n",
       "      <td>f</td>\n",
       "    </tr>\n",
       "    <tr>\n",
       "      <th>4</th>\n",
       "      <td>7071</td>\n",
       "      <td>17391</td>\n",
       "      <td>Pankow</td>\n",
       "      <td>Helmholtzplatz</td>\n",
       "      <td>52.543157</td>\n",
       "      <td>13.415091</td>\n",
       "      <td>Private room</td>\n",
       "      <td>42</td>\n",
       "      <td>2</td>\n",
       "      <td>197</td>\n",
       "      <td>1.75</td>\n",
       "      <td>1</td>\n",
       "      <td>26</td>\n",
       "      <td>f</td>\n",
       "      <td>f</td>\n",
       "      <td>f</td>\n",
       "      <td>f</td>\n",
       "    </tr>\n",
       "    <tr>\n",
       "      <th>...</th>\n",
       "      <td>...</td>\n",
       "      <td>...</td>\n",
       "      <td>...</td>\n",
       "      <td>...</td>\n",
       "      <td>...</td>\n",
       "      <td>...</td>\n",
       "      <td>...</td>\n",
       "      <td>...</td>\n",
       "      <td>...</td>\n",
       "      <td>...</td>\n",
       "      <td>...</td>\n",
       "      <td>...</td>\n",
       "      <td>...</td>\n",
       "      <td>...</td>\n",
       "      <td>...</td>\n",
       "      <td>...</td>\n",
       "      <td>...</td>\n",
       "    </tr>\n",
       "    <tr>\n",
       "      <th>22539</th>\n",
       "      <td>29856708</td>\n",
       "      <td>87555909</td>\n",
       "      <td>Mitte</td>\n",
       "      <td>Brunnenstr. Süd</td>\n",
       "      <td>52.533865</td>\n",
       "      <td>13.400731</td>\n",
       "      <td>Entire home/apt</td>\n",
       "      <td>60</td>\n",
       "      <td>2</td>\n",
       "      <td>0</td>\n",
       "      <td>NaN</td>\n",
       "      <td>1</td>\n",
       "      <td>314</td>\n",
       "      <td>f</td>\n",
       "      <td>f</td>\n",
       "      <td>f</td>\n",
       "      <td>f</td>\n",
       "    </tr>\n",
       "    <tr>\n",
       "      <th>22540</th>\n",
       "      <td>29857108</td>\n",
       "      <td>67537363</td>\n",
       "      <td>Tempelhof - Schöneberg</td>\n",
       "      <td>Schöneberg-Nord</td>\n",
       "      <td>52.496211</td>\n",
       "      <td>13.341738</td>\n",
       "      <td>Shared room</td>\n",
       "      <td>20</td>\n",
       "      <td>1</td>\n",
       "      <td>0</td>\n",
       "      <td>NaN</td>\n",
       "      <td>6</td>\n",
       "      <td>78</td>\n",
       "      <td>t</td>\n",
       "      <td>f</td>\n",
       "      <td>f</td>\n",
       "      <td>f</td>\n",
       "    </tr>\n",
       "    <tr>\n",
       "      <th>22541</th>\n",
       "      <td>29864272</td>\n",
       "      <td>3146923</td>\n",
       "      <td>Pankow</td>\n",
       "      <td>Prenzlauer Berg Südwest</td>\n",
       "      <td>52.531800</td>\n",
       "      <td>13.411999</td>\n",
       "      <td>Entire home/apt</td>\n",
       "      <td>85</td>\n",
       "      <td>3</td>\n",
       "      <td>0</td>\n",
       "      <td>NaN</td>\n",
       "      <td>2</td>\n",
       "      <td>15</td>\n",
       "      <td>f</td>\n",
       "      <td>f</td>\n",
       "      <td>f</td>\n",
       "      <td>f</td>\n",
       "    </tr>\n",
       "    <tr>\n",
       "      <th>22542</th>\n",
       "      <td>29866805</td>\n",
       "      <td>36961901</td>\n",
       "      <td>Mitte</td>\n",
       "      <td>Alexanderplatz</td>\n",
       "      <td>52.520802</td>\n",
       "      <td>13.378688</td>\n",
       "      <td>Private room</td>\n",
       "      <td>99</td>\n",
       "      <td>1</td>\n",
       "      <td>0</td>\n",
       "      <td>NaN</td>\n",
       "      <td>3</td>\n",
       "      <td>6</td>\n",
       "      <td>f</td>\n",
       "      <td>f</td>\n",
       "      <td>f</td>\n",
       "      <td>f</td>\n",
       "    </tr>\n",
       "    <tr>\n",
       "      <th>22543</th>\n",
       "      <td>29867352</td>\n",
       "      <td>177464875</td>\n",
       "      <td>Neukölln</td>\n",
       "      <td>Schillerpromenade</td>\n",
       "      <td>52.473762</td>\n",
       "      <td>13.424447</td>\n",
       "      <td>Private room</td>\n",
       "      <td>45</td>\n",
       "      <td>5</td>\n",
       "      <td>0</td>\n",
       "      <td>NaN</td>\n",
       "      <td>1</td>\n",
       "      <td>21</td>\n",
       "      <td>f</td>\n",
       "      <td>f</td>\n",
       "      <td>f</td>\n",
       "      <td>f</td>\n",
       "    </tr>\n",
       "  </tbody>\n",
       "</table>\n",
       "<p>22544 rows × 17 columns</p>\n",
       "</div>"
      ],
      "text/plain": [
       "       listing_id    host_id     neighbourhood_group  \\\n",
       "0            2015       2217                   Mitte   \n",
       "1            2695       2986                  Pankow   \n",
       "2            3176       3718                  Pankow   \n",
       "3            3309       4108  Tempelhof - Schöneberg   \n",
       "4            7071      17391                  Pankow   \n",
       "...           ...        ...                     ...   \n",
       "22539    29856708   87555909                   Mitte   \n",
       "22540    29857108   67537363  Tempelhof - Schöneberg   \n",
       "22541    29864272    3146923                  Pankow   \n",
       "22542    29866805   36961901                   Mitte   \n",
       "22543    29867352  177464875                Neukölln   \n",
       "\n",
       "                  neighbourhood   latitude  longitude        room_type  price  \\\n",
       "0               Brunnenstr. Süd  52.534537  13.402557  Entire home/apt     60   \n",
       "1      Prenzlauer Berg Nordwest  52.548513  13.404553     Private room     17   \n",
       "2       Prenzlauer Berg Südwest  52.534996  13.417579  Entire home/apt     90   \n",
       "3               Schöneberg-Nord  52.498855  13.349065     Private room     26   \n",
       "4                Helmholtzplatz  52.543157  13.415091     Private room     42   \n",
       "...                         ...        ...        ...              ...    ...   \n",
       "22539           Brunnenstr. Süd  52.533865  13.400731  Entire home/apt     60   \n",
       "22540           Schöneberg-Nord  52.496211  13.341738      Shared room     20   \n",
       "22541   Prenzlauer Berg Südwest  52.531800  13.411999  Entire home/apt     85   \n",
       "22542            Alexanderplatz  52.520802  13.378688     Private room     99   \n",
       "22543         Schillerpromenade  52.473762  13.424447     Private room     45   \n",
       "\n",
       "       minimum_nights  number_of_reviews  reviews_per_month  \\\n",
       "0                   4                118               3.76   \n",
       "1                   2                  6               1.42   \n",
       "2                  62                143               1.25   \n",
       "3                   5                 25               0.39   \n",
       "4                   2                197               1.75   \n",
       "...               ...                ...                ...   \n",
       "22539               2                  0                NaN   \n",
       "22540               1                  0                NaN   \n",
       "22541               3                  0                NaN   \n",
       "22542               1                  0                NaN   \n",
       "22543               5                  0                NaN   \n",
       "\n",
       "       calculated_host_listings_count  availability_365 instant_bookable  \\\n",
       "0                                   4               141                f   \n",
       "1                                   1                 0                f   \n",
       "2                                   1               220                t   \n",
       "3                                   1               297                f   \n",
       "4                                   1                26                f   \n",
       "...                               ...               ...              ...   \n",
       "22539                               1               314                f   \n",
       "22540                               6                78                t   \n",
       "22541                               2                15                f   \n",
       "22542                               3                 6                f   \n",
       "22543                               1                21                f   \n",
       "\n",
       "      is_business_travel_ready require_guest_phone_verification  \\\n",
       "0                            f                                f   \n",
       "1                            f                                f   \n",
       "2                            f                                f   \n",
       "3                            f                                f   \n",
       "4                            f                                f   \n",
       "...                        ...                              ...   \n",
       "22539                        f                                f   \n",
       "22540                        f                                f   \n",
       "22541                        f                                f   \n",
       "22542                        f                                f   \n",
       "22543                        f                                f   \n",
       "\n",
       "      require_guest_profile_picture  \n",
       "0                                 f  \n",
       "1                                 f  \n",
       "2                                 f  \n",
       "3                                 f  \n",
       "4                                 f  \n",
       "...                             ...  \n",
       "22539                             f  \n",
       "22540                             f  \n",
       "22541                             f  \n",
       "22542                             f  \n",
       "22543                             f  \n",
       "\n",
       "[22544 rows x 17 columns]"
      ]
     },
     "execution_count": 3,
     "metadata": {},
     "output_type": "execute_result"
    }
   ],
   "source": [
    "listings"
   ]
  },
  {
   "cell_type": "code",
   "execution_count": 4,
   "metadata": {},
   "outputs": [
    {
     "data": {
      "text/plain": [
       "(array([2.2451e+04, 5.1000e+01, 7.0000e+00, 1.0000e+00, 5.0000e+00,\n",
       "        2.0000e+00, 1.0000e+00, 0.0000e+00, 0.0000e+00, 1.0000e+00,\n",
       "        0.0000e+00, 2.0000e+00, 0.0000e+00, 2.0000e+01, 0.0000e+00,\n",
       "        0.0000e+00, 0.0000e+00, 1.0000e+00, 0.0000e+00, 2.0000e+00]),\n",
       " array([1.00000e+00, 4.50950e+02, 9.00900e+02, 1.35085e+03, 1.80080e+03,\n",
       "        2.25075e+03, 2.70070e+03, 3.15065e+03, 3.60060e+03, 4.05055e+03,\n",
       "        4.50050e+03, 4.95045e+03, 5.40040e+03, 5.85035e+03, 6.30030e+03,\n",
       "        6.75025e+03, 7.20020e+03, 7.65015e+03, 8.10010e+03, 8.55005e+03,\n",
       "        9.00000e+03]),\n",
       " <a list of 20 Patch objects>)"
      ]
     },
     "execution_count": 4,
     "metadata": {},
     "output_type": "execute_result"
    },
    {
     "data": {
      "image/png": "[encoded data removed]",
      "text/plain": [
       "<Figure size 432x288 with 1 Axes>"
      ]
     },
     "metadata": {},
     "output_type": "display_data"
    }
   ],
   "source": [
    "pricedata = listings['price']\n",
    "plt.title(\"Price Distribution\")\n",
    "plt.hist(pricedata, color=\"black\", bins=20, log=0.01, edgecolor=\"white\")"
   ]
  },
  {
   "cell_type": "code",
   "execution_count": 5,
   "metadata": {},
   "outputs": [
    {
     "data": {
      "text/plain": [
       "count    22544.000000\n",
       "mean        67.167495\n",
       "std        220.301658\n",
       "min          1.000000\n",
       "25%         30.000000\n",
       "50%         45.000000\n",
       "75%         70.000000\n",
       "max       9000.000000\n",
       "Name: price, dtype: float64"
      ]
     },
     "execution_count": 5,
     "metadata": {},
     "output_type": "execute_result"
    }
   ],
   "source": [
    "pricedata.describe()"
   ]
  },
  {
   "cell_type": "code",
   "execution_count": 6,
   "metadata": {},
   "outputs": [
    {
     "data": {
      "text/plain": [
       "f    22388\n",
       "t      156\n",
       "Name: require_guest_profile_picture, dtype: int64"
      ]
     },
     "execution_count": 6,
     "metadata": {},
     "output_type": "execute_result"
    }
   ],
   "source": [
    "listings[\"require_guest_profile_picture\"].value_counts()"
   ]
  },
  {
   "cell_type": "code",
   "execution_count": 7,
   "metadata": {},
   "outputs": [
    {
     "name": "stdout",
     "output_type": "stream",
     "text": [
      "Private room       11529\n",
      "Entire home/apt    10719\n",
      "Shared room          296\n",
      "Name: room_type, dtype: int64\n"
     ]
    },
    {
     "data": {
      "text/plain": [
       "array([11529, 10719,   296])"
      ]
     },
     "execution_count": 7,
     "metadata": {},
     "output_type": "execute_result"
    }
   ],
   "source": [
    "a = listings[\"room_type\"].value_counts()\n",
    "roomtypes_prop = np.array([a[0],a[1],a[2]])\n",
    "print(a)\n",
    "roomtypes_prop"
   ]
  },
  {
   "cell_type": "code",
   "execution_count": 8,
   "metadata": {},
   "outputs": [
    {
     "data": {
      "text/plain": [
       "<BarContainer object of 3 artists>"
      ]
     },
     "execution_count": 8,
     "metadata": {},
     "output_type": "execute_result"
    },
    {
     "data": {
      "image/png": "[encoded data removed]",
      "text/plain": [
       "<Figure size 432x288 with 1 Axes>"
      ]
     },
     "metadata": {},
     "output_type": "display_data"
    }
   ],
   "source": [
    "plt.title(\"Room Type Count\")\n",
    "plt.bar([\"Private room\", \"Entire home/apt\", \"Shared room\"],roomtypes_prop, color=['red','orange','green'], width=0.5)"
   ]
  },
  {
   "cell_type": "code",
   "execution_count": 9,
   "metadata": {},
   "outputs": [
    {
     "data": {
      "text/plain": [
       "count    22544.000000\n",
       "mean         7.158801\n",
       "std         40.672178\n",
       "min          1.000000\n",
       "25%          2.000000\n",
       "50%          2.000000\n",
       "75%          4.000000\n",
       "max       5000.000000\n",
       "Name: minimum_nights, dtype: float64"
      ]
     },
     "execution_count": 9,
     "metadata": {},
     "output_type": "execute_result"
    }
   ],
   "source": [
    "listings[\"minimum_nights\"].describe()"
   ]
  },
  {
   "cell_type": "code",
   "execution_count": 10,
   "metadata": {},
   "outputs": [
    {
     "data": {
      "text/plain": [
       "count    22544.000000\n",
       "mean         7.158801\n",
       "std         40.672178\n",
       "min          1.000000\n",
       "25%          2.000000\n",
       "50%          2.000000\n",
       "75%          4.000000\n",
       "max       5000.000000\n",
       "Name: minimum_nights, dtype: float64"
      ]
     },
     "execution_count": 10,
     "metadata": {},
     "output_type": "execute_result"
    }
   ],
   "source": [
    "listings[\"minimum_nights\"].describe()"
   ]
  },
  {
   "cell_type": "code",
   "execution_count": 11,
   "metadata": {},
   "outputs": [
    {
     "data": {
      "text/html": [
       "<div>\n",
       "<style scoped>\n",
       "    .dataframe tbody tr th:only-of-type {\n",
       "        vertical-align: middle;\n",
       "    }\n",
       "\n",
       "    .dataframe tbody tr th {\n",
       "        vertical-align: top;\n",
       "    }\n",
       "\n",
       "    .dataframe thead th {\n",
       "        text-align: right;\n",
       "    }\n",
       "</style>\n",
       "<table border=\"1\" class=\"dataframe\">\n",
       "  <thead>\n",
       "    <tr style=\"text-align: right;\">\n",
       "      <th></th>\n",
       "      <th>listing_id</th>\n",
       "      <th>host_id</th>\n",
       "      <th>latitude</th>\n",
       "      <th>longitude</th>\n",
       "      <th>price</th>\n",
       "      <th>minimum_nights</th>\n",
       "      <th>number_of_reviews</th>\n",
       "      <th>reviews_per_month</th>\n",
       "      <th>calculated_host_listings_count</th>\n",
       "      <th>availability_365</th>\n",
       "    </tr>\n",
       "    <tr>\n",
       "      <th>room_type</th>\n",
       "      <th></th>\n",
       "      <th></th>\n",
       "      <th></th>\n",
       "      <th></th>\n",
       "      <th></th>\n",
       "      <th></th>\n",
       "      <th></th>\n",
       "      <th></th>\n",
       "      <th></th>\n",
       "      <th></th>\n",
       "    </tr>\n",
       "  </thead>\n",
       "  <tbody>\n",
       "    <tr>\n",
       "      <th>Entire home/apt</th>\n",
       "      <td>1.480889e+07</td>\n",
       "      <td>4.950696e+07</td>\n",
       "      <td>52.511071</td>\n",
       "      <td>13.404700</td>\n",
       "      <td>83.372236</td>\n",
       "      <td>10.453214</td>\n",
       "      <td>19.239854</td>\n",
       "      <td>1.102702</td>\n",
       "      <td>2.154865</td>\n",
       "      <td>92.065864</td>\n",
       "    </tr>\n",
       "    <tr>\n",
       "      <th>Private room</th>\n",
       "      <td>1.650580e+07</td>\n",
       "      <td>5.780534e+07</td>\n",
       "      <td>52.508518</td>\n",
       "      <td>13.407519</td>\n",
       "      <td>52.501865</td>\n",
       "      <td>4.183624</td>\n",
       "      <td>16.570908</td>\n",
       "      <td>1.159858</td>\n",
       "      <td>1.547055</td>\n",
       "      <td>67.622430</td>\n",
       "    </tr>\n",
       "    <tr>\n",
       "      <th>Shared room</th>\n",
       "      <td>1.764845e+07</td>\n",
       "      <td>7.111596e+07</td>\n",
       "      <td>52.515741</td>\n",
       "      <td>13.401349</td>\n",
       "      <td>51.564189</td>\n",
       "      <td>3.739865</td>\n",
       "      <td>16.756757</td>\n",
       "      <td>1.397626</td>\n",
       "      <td>7.743243</td>\n",
       "      <td>113.719595</td>\n",
       "    </tr>\n",
       "  </tbody>\n",
       "</table>\n",
       "</div>"
      ],
      "text/plain": [
       "                   listing_id       host_id   latitude  longitude      price  \\\n",
       "room_type                                                                      \n",
       "Entire home/apt  1.480889e+07  4.950696e+07  52.511071  13.404700  83.372236   \n",
       "Private room     1.650580e+07  5.780534e+07  52.508518  13.407519  52.501865   \n",
       "Shared room      1.764845e+07  7.111596e+07  52.515741  13.401349  51.564189   \n",
       "\n",
       "                 minimum_nights  number_of_reviews  reviews_per_month  \\\n",
       "room_type                                                               \n",
       "Entire home/apt       10.453214          19.239854           1.102702   \n",
       "Private room           4.183624          16.570908           1.159858   \n",
       "Shared room            3.739865          16.756757           1.397626   \n",
       "\n",
       "                 calculated_host_listings_count  availability_365  \n",
       "room_type                                                          \n",
       "Entire home/apt                        2.154865         92.065864  \n",
       "Private room                           1.547055         67.622430  \n",
       "Shared room                            7.743243        113.719595  "
      ]
     },
     "execution_count": 11,
     "metadata": {},
     "output_type": "execute_result"
    }
   ],
   "source": [
    "listings.groupby(listings[\"room_type\"]).mean()"
   ]
  },
  {
   "cell_type": "code",
   "execution_count": 12,
   "metadata": {},
   "outputs": [
    {
     "data": {
      "text/plain": [
       "room_type\n",
       "Entire home/apt    3\n",
       "Private room       2\n",
       "Shared room        1\n",
       "Name: minimum_nights, dtype: int64"
      ]
     },
     "execution_count": 12,
     "metadata": {},
     "output_type": "execute_result"
    }
   ],
   "source": [
    "listings.groupby(listings[\"room_type\"])[\"minimum_nights\"].median()"
   ]
  },
  {
   "cell_type": "code",
   "execution_count": 13,
   "metadata": {},
   "outputs": [
    {
     "data": {
      "text/plain": [
       "Index(['Private room', 'Entire home/apt', 'Shared room'], dtype='object')"
      ]
     },
     "execution_count": 13,
     "metadata": {},
     "output_type": "execute_result"
    }
   ],
   "source": [
    "listings[\"room_type\"].value_counts().index"
   ]
  },
  {
   "cell_type": "code",
   "execution_count": 14,
   "metadata": {},
   "outputs": [
    {
     "data": {
      "text/plain": [
       "<BarContainer object of 3 artists>"
      ]
     },
     "execution_count": 14,
     "metadata": {},
     "output_type": "execute_result"
    },
    {
     "data": {
      "image/png": "[encoded data removed]",
      "text/plain": [
       "<Figure size 432x288 with 1 Axes>"
      ]
     },
     "metadata": {},
     "output_type": "display_data"
    }
   ],
   "source": [
    "plt.title(\"Median Minimum Nights\")\n",
    "plt.bar(listings[\"room_type\"].value_counts().index,listings.groupby(listings[\"room_type\"])[\"minimum_nights\"].median())"
   ]
  },
  {
   "cell_type": "code",
   "execution_count": 15,
   "metadata": {},
   "outputs": [],
   "source": [
    "listings[\"min_spending\"] = listings[\"minimum_nights\"]*listings[\"price\"]\n",
    "#creation of minimum spending variable, important because this is the \"true price\" of renting that location"
   ]
  },
  {
   "cell_type": "code",
   "execution_count": 16,
   "metadata": {},
   "outputs": [
    {
     "data": {
      "text/plain": [
       "45.0"
      ]
     },
     "execution_count": 16,
     "metadata": {},
     "output_type": "execute_result"
    }
   ],
   "source": [
    "listings[\"price\"].median()\n",
    "#average price p/night"
   ]
  },
  {
   "cell_type": "code",
   "execution_count": 17,
   "metadata": {},
   "outputs": [
    {
     "data": {
      "text/plain": [
       "120.0"
      ]
     },
     "execution_count": 17,
     "metadata": {},
     "output_type": "execute_result"
    }
   ],
   "source": [
    "listings[\"min_spending\"].median()\n",
    "#means that on average, the minimum spending of a reservation is $120"
   ]
  },
  {
   "cell_type": "code",
   "execution_count": 18,
   "metadata": {},
   "outputs": [
    {
     "name": "stdout",
     "output_type": "stream",
     "text": [
      "MEDIAN PRICE PER NIGHT G/BY ROOMTYPE\n",
      "room_type\n",
      "Entire home/apt    65\n",
      "Private room       35\n",
      "Shared room        25\n",
      "Name: price, dtype: int64\n"
     ]
    }
   ],
   "source": [
    "print(\"MEDIAN PRICE PER NIGHT G/BY ROOMTYPE\")\n",
    "print(listings[\"price\"].groupby(listings[\"room_type\"]).median())"
   ]
  },
  {
   "cell_type": "code",
   "execution_count": 19,
   "metadata": {},
   "outputs": [
    {
     "name": "stdout",
     "output_type": "stream",
     "text": [
      "MEDIAN MIN. SPENDING PER NIGHT G/BY ROOMTYPE\n",
      "room_type\n",
      "Entire home/apt    220\n",
      "Private room        80\n",
      "Shared room         34\n",
      "Name: min_spending, dtype: int64\n"
     ]
    }
   ],
   "source": [
    "print(\"MEDIAN MIN. SPENDING PER NIGHT G/BY ROOMTYPE\")\n",
    "print(listings[\"min_spending\"].groupby(listings[\"room_type\"]).median())"
   ]
  },
  {
   "cell_type": "code",
   "execution_count": 20,
   "metadata": {},
   "outputs": [],
   "source": [
    "roomtypes_medms_sorted = listings[\"min_spending\"].groupby(listings[\"room_type\"]).median().index"
   ]
  },
  {
   "cell_type": "code",
   "execution_count": 21,
   "metadata": {},
   "outputs": [
    {
     "data": {
      "text/plain": [
       "<matplotlib.legend.Legend at 0x12489e5e0>"
      ]
     },
     "execution_count": 21,
     "metadata": {},
     "output_type": "execute_result"
    },
    {
     "data": {
      "image/png": "[encoded data removed]",
      "text/plain": [
       "<Figure size 432x288 with 1 Axes>"
      ]
     },
     "metadata": {},
     "output_type": "display_data"
    }
   ],
   "source": [
    "plt.title(\"Median Price vs Median Min. Spending\")\n",
    "plt.bar(roomtypes_medms_sorted,listings[\"price\"].groupby(listings[\"room_type\"]).median(), label=\"Price\", alpha=1, color=\"blue\")\n",
    "plt.bar(roomtypes_medms_sorted,listings[\"min_spending\"].groupby(listings[\"room_type\"]).median(), width=0.3, label=\"Min. Spending\", alpha=0.7, color=\"red\")\n",
    "plt.legend()"
   ]
  },
  {
   "cell_type": "code",
   "execution_count": 22,
   "metadata": {},
   "outputs": [
    {
     "data": {
      "image/png": "[encoded data removed]",
      "text/plain": [
       "<Figure size 432x288 with 1 Axes>"
      ]
     },
     "metadata": {},
     "output_type": "display_data"
    }
   ],
   "source": [
    "plt.title(\"Average availability (days)\")\n",
    "plt.ylabel(\"Days\")\n",
    "plt.bar(listings[\"availability_365\"].sort_values(ascending=True).groupby(listings[\"room_type\"]).mean().sort_values(ascending=False).index,\n",
    "        listings[\"availability_365\"].sort_values(ascending=True).groupby(listings[\"room_type\"]).mean().sort_values(ascending=False), \n",
    "        color=[\"green\",\"#fcb900\",\"#c94300\"], width=0.5,\n",
    "       )\n",
    "\n",
    "it = np.array(listings[\"availability_365\"].sort_values(ascending=True).groupby(listings[\"room_type\"]).mean().sort_values(ascending=False))\n",
    "for i in range(3):\n",
    "    plt.annotate(int(it[i]),(i,it[i]-15), ha='center', va='bottom', color=\"white\", fontsize=\"15\")\n"
   ]
  },
  {
   "cell_type": "code",
   "execution_count": 23,
   "metadata": {},
   "outputs": [
    {
     "data": {
      "text/plain": [
       "Friedrichshain-Kreuzberg    5493\n",
       "Mitte                       4630\n",
       "Pankow                      3540\n",
       "Neukölln                    3499\n",
       "Charlottenburg-Wilm.        1592\n",
       "Tempelhof - Schöneberg      1559\n",
       "Lichtenberg                  688\n",
       "Treptow - Köpenick           595\n",
       "Steglitz - Zehlendorf        437\n",
       "Reinickendorf                247\n",
       "Marzahn - Hellersdorf        140\n",
       "Spandau                      124\n",
       "Name: neighbourhood_group, dtype: int64"
      ]
     },
     "execution_count": 23,
     "metadata": {},
     "output_type": "execute_result"
    }
   ],
   "source": [
    "listings[\"neighbourhood_group\"].value_counts()"
   ]
  },
  {
   "cell_type": "code",
   "execution_count": 24,
   "metadata": {
    "scrolled": true
   },
   "outputs": [
    {
     "data": {
      "text/plain": [
       "neighbourhood_group\n",
       "Charlottenburg-Wilm.        114.270729\n",
       "Tempelhof - Schöneberg       96.634381\n",
       "Mitte                        69.714471\n",
       "Pankow                       67.841808\n",
       "Friedrichshain-Kreuzberg     60.873111\n",
       "Spandau                      58.233871\n",
       "Marzahn - Hellersdorf        56.907143\n",
       "Steglitz - Zehlendorf        56.327231\n",
       "Lichtenberg                  56.113372\n",
       "Treptow - Köpenick           52.216807\n",
       "Reinickendorf                48.263158\n",
       "Neukölln                     46.567305\n",
       "Name: price, dtype: float64"
      ]
     },
     "execution_count": 24,
     "metadata": {},
     "output_type": "execute_result"
    }
   ],
   "source": [
    "price_per_district = listings[\"price\"].groupby(listings[\"neighbourhood_group\"]).mean().sort_values(ascending=False)\n",
    "price_per_district"
   ]
  },
  {
   "cell_type": "markdown",
   "metadata": {},
   "source": [
    "The data tells us that Charlottenburg is the most expensive district in Berlin (for renting specifically in this dataset, but when rent prices are high, everything tends to be expensive) which we can confirm with a quick google research <b>\"The Charlottenburg district is the wealthiest and most commercialized in western Berlin\" <i>from frommers.com</i></b>"
   ]
  },
  {
   "cell_type": "code",
   "execution_count": 25,
   "metadata": {},
   "outputs": [
    {
     "data": {
      "text/plain": [
       "neighbourhood_group\n",
       "Charlottenburg-Wilm.        1214.725503\n",
       "Mitte                        807.045572\n",
       "Spandau                      490.258065\n",
       "Marzahn - Hellersdorf        476.028571\n",
       "Pankow                       448.803107\n",
       "Tempelhof - Schöneberg       415.806928\n",
       "Reinickendorf                400.153846\n",
       "Friedrichshain-Kreuzberg     368.492081\n",
       "Lichtenberg                  349.707849\n",
       "Steglitz - Zehlendorf        332.270023\n",
       "Treptow - Köpenick           269.852101\n",
       "Neukölln                     247.393827\n",
       "Name: min_spending, dtype: float64"
      ]
     },
     "execution_count": 25,
     "metadata": {},
     "output_type": "execute_result"
    }
   ],
   "source": [
    "min_spending_per_district = listings[\"min_spending\"].groupby(listings[\"neighbourhood_group\"]).mean().sort_values(ascending=False)\n",
    "min_spending_per_district"
   ]
  },
  {
   "cell_type": "markdown",
   "metadata": {},
   "source": [
    "After checking the <b>mean minimum spending</b> compared to the <b>mean price</b>, we can see that, on average, though some districts rent prices are higher, others surpasses these in total renting cost because of the min. required nights"
   ]
  },
  {
   "cell_type": "code",
   "execution_count": 26,
   "metadata": {},
   "outputs": [
    {
     "data": {
      "text/plain": [
       "neighbourhood_group\n",
       "Spandau                     195.564516\n",
       "Marzahn - Hellersdorf       177.528571\n",
       "Steglitz - Zehlendorf       125.457666\n",
       "Charlottenburg-Wilm.        118.331030\n",
       "Reinickendorf               117.935223\n",
       "Tempelhof - Schöneberg       93.076331\n",
       "Treptow - Köpenick           90.825210\n",
       "Mitte                        85.147516\n",
       "Pankow                       81.032203\n",
       "Lichtenberg                  74.129360\n",
       "Friedrichshain-Kreuzberg     66.505006\n",
       "Neukölln                     52.056302\n",
       "Name: availability_365, dtype: float64"
      ]
     },
     "execution_count": 26,
     "metadata": {},
     "output_type": "execute_result"
    }
   ],
   "source": [
    "availability_per_district = listings[\"availability_365\"].groupby(listings[\"neighbourhood_group\"]).mean().sort_values(ascending=False)\n",
    "availability_per_district"
   ]
  },
  {
   "cell_type": "markdown",
   "metadata": {},
   "source": [
    "Mean availability (days) grouped by district"
   ]
  },
  {
   "cell_type": "code",
   "execution_count": 27,
   "metadata": {},
   "outputs": [
    {
     "data": {
      "text/html": [
       "<div>\n",
       "<style scoped>\n",
       "    .dataframe tbody tr th:only-of-type {\n",
       "        vertical-align: middle;\n",
       "    }\n",
       "\n",
       "    .dataframe tbody tr th {\n",
       "        vertical-align: top;\n",
       "    }\n",
       "\n",
       "    .dataframe thead th {\n",
       "        text-align: right;\n",
       "    }\n",
       "</style>\n",
       "<table border=\"1\" class=\"dataframe\">\n",
       "  <thead>\n",
       "    <tr style=\"text-align: right;\">\n",
       "      <th></th>\n",
       "      <th>Entire home/apt</th>\n",
       "      <th>Private room</th>\n",
       "      <th>Shared room</th>\n",
       "    </tr>\n",
       "  </thead>\n",
       "  <tbody>\n",
       "    <tr>\n",
       "      <th>0</th>\n",
       "      <td>1</td>\n",
       "      <td>0</td>\n",
       "      <td>0</td>\n",
       "    </tr>\n",
       "    <tr>\n",
       "      <th>1</th>\n",
       "      <td>0</td>\n",
       "      <td>1</td>\n",
       "      <td>0</td>\n",
       "    </tr>\n",
       "    <tr>\n",
       "      <th>2</th>\n",
       "      <td>1</td>\n",
       "      <td>0</td>\n",
       "      <td>0</td>\n",
       "    </tr>\n",
       "    <tr>\n",
       "      <th>3</th>\n",
       "      <td>0</td>\n",
       "      <td>1</td>\n",
       "      <td>0</td>\n",
       "    </tr>\n",
       "    <tr>\n",
       "      <th>4</th>\n",
       "      <td>0</td>\n",
       "      <td>1</td>\n",
       "      <td>0</td>\n",
       "    </tr>\n",
       "    <tr>\n",
       "      <th>...</th>\n",
       "      <td>...</td>\n",
       "      <td>...</td>\n",
       "      <td>...</td>\n",
       "    </tr>\n",
       "    <tr>\n",
       "      <th>22539</th>\n",
       "      <td>1</td>\n",
       "      <td>0</td>\n",
       "      <td>0</td>\n",
       "    </tr>\n",
       "    <tr>\n",
       "      <th>22540</th>\n",
       "      <td>0</td>\n",
       "      <td>0</td>\n",
       "      <td>1</td>\n",
       "    </tr>\n",
       "    <tr>\n",
       "      <th>22541</th>\n",
       "      <td>1</td>\n",
       "      <td>0</td>\n",
       "      <td>0</td>\n",
       "    </tr>\n",
       "    <tr>\n",
       "      <th>22542</th>\n",
       "      <td>0</td>\n",
       "      <td>1</td>\n",
       "      <td>0</td>\n",
       "    </tr>\n",
       "    <tr>\n",
       "      <th>22543</th>\n",
       "      <td>0</td>\n",
       "      <td>1</td>\n",
       "      <td>0</td>\n",
       "    </tr>\n",
       "  </tbody>\n",
       "</table>\n",
       "<p>22544 rows × 3 columns</p>\n",
       "</div>"
      ],
      "text/plain": [
       "       Entire home/apt  Private room  Shared room\n",
       "0                    1             0            0\n",
       "1                    0             1            0\n",
       "2                    1             0            0\n",
       "3                    0             1            0\n",
       "4                    0             1            0\n",
       "...                ...           ...          ...\n",
       "22539                1             0            0\n",
       "22540                0             0            1\n",
       "22541                1             0            0\n",
       "22542                0             1            0\n",
       "22543                0             1            0\n",
       "\n",
       "[22544 rows x 3 columns]"
      ]
     },
     "execution_count": 27,
     "metadata": {},
     "output_type": "execute_result"
    }
   ],
   "source": [
    "rt_dummies = pd.get_dummies(listings[\"room_type\"])\n",
    "rt_dummies"
   ]
  },
  {
   "cell_type": "code",
   "execution_count": 28,
   "metadata": {},
   "outputs": [],
   "source": [
    "rt_dt = rt_dummies.groupby(listings[\"neighbourhood_group\"]).sum()"
   ]
  },
  {
   "cell_type": "code",
   "execution_count": 29,
   "metadata": {},
   "outputs": [],
   "source": [
    "rt_dt = rt_dt.reset_index()"
   ]
  },
  {
   "cell_type": "code",
   "execution_count": 30,
   "metadata": {},
   "outputs": [
    {
     "name": "stdout",
     "output_type": "stream",
     "text": [
      "(x%) of total listings\n",
      "Private room       51.139993\n",
      "Entire home/apt    47.547019\n",
      "Shared room         1.312988\n",
      "Name: room_type, dtype: float64\n"
     ]
    }
   ],
   "source": [
    "print(\"(x%) of total listings\")\n",
    "print((listings[\"room_type\"].value_counts())/len(listings)*100)"
   ]
  },
  {
   "cell_type": "code",
   "execution_count": 31,
   "metadata": {},
   "outputs": [
    {
     "data": {
      "text/plain": [
       "<matplotlib.collections.PathCollection at 0x1244df730>"
      ]
     },
     "execution_count": 31,
     "metadata": {},
     "output_type": "execute_result"
    },
    {
     "data": {
      "image/png": "[encoded data removed]",
      "text/plain": [
       "<Figure size 720x360 with 1 Axes>"
      ]
     },
     "metadata": {},
     "output_type": "display_data"
    }
   ],
   "source": [
    "plt.figure(figsize=(10,5))\n",
    "plt.title(\"Berlin listings coloured and sized by Price\")\n",
    "plt.scatter(listings[\"longitude\"],listings[\"latitude\"], c=listings[\"price\"],cmap=\"jet\", alpha=0.2,\n",
    "           s=listings[\"price\"]/30,vmin=1,vmax=100)"
   ]
  },
  {
   "cell_type": "code",
   "execution_count": 32,
   "metadata": {},
   "outputs": [
    {
     "data": {
      "text/plain": [
       "<matplotlib.collections.PathCollection at 0x1243521f0>"
      ]
     },
     "execution_count": 32,
     "metadata": {},
     "output_type": "execute_result"
    },
    {
     "data": {
      "image/png": "[encoded data removed]",
      "text/plain": [
       "<Figure size 720x360 with 1 Axes>"
      ]
     },
     "metadata": {},
     "output_type": "display_data"
    }
   ],
   "source": [
    "plt.figure(figsize=(10,5))\n",
    "plt.title(\"Berlin listings coloured and sized by Min. Spending\")\n",
    "plt.scatter(listings[\"longitude\"],listings[\"latitude\"], c=listings[\"min_spending\"],cmap=\"jet\", alpha=0.2,\n",
    "           s=listings[\"min_spending\"]/100,vmin=1,vmax=1000)"
   ]
  },
  {
   "cell_type": "code",
   "execution_count": 33,
   "metadata": {},
   "outputs": [
    {
     "name": "stdout",
     "output_type": "stream",
     "text": [
      "(x%) instant bookable\n",
      "f    68.798793\n",
      "t    31.201207\n",
      "Name: instant_bookable, dtype: float64\n"
     ]
    },
    {
     "data": {
      "text/plain": [
       "<BarContainer object of 2 artists>"
      ]
     },
     "execution_count": 33,
     "metadata": {},
     "output_type": "execute_result"
    },
    {
     "data": {
      "image/png": "[encoded data removed]",
      "text/plain": [
       "<Figure size 432x288 with 1 Axes>"
      ]
     },
     "metadata": {},
     "output_type": "display_data"
    }
   ],
   "source": [
    "print(\"(x%) instant bookable\")\n",
    "print((listings[\"instant_bookable\"].value_counts())/len(listings)*100)\n",
    "plt.bar([\"f\",\"t\"],(listings[\"instant_bookable\"].value_counts())/len(listings)*100)"
   ]
  },
  {
   "cell_type": "code",
   "execution_count": 34,
   "metadata": {},
   "outputs": [
    {
     "name": "stdout",
     "output_type": "stream",
     "text": [
      "(x%) business travel ready\n",
      "f    100.0\n",
      "Name: is_business_travel_ready, dtype: float64\n"
     ]
    }
   ],
   "source": [
    "print(\"(x%) business travel ready\")\n",
    "print((listings[\"is_business_travel_ready\"].value_counts())/len(listings)*100)"
   ]
  },
  {
   "cell_type": "code",
   "execution_count": 35,
   "metadata": {},
   "outputs": [
    {
     "name": "stdout",
     "output_type": "stream",
     "text": [
      "(x%) require guest phone verif\n",
      "f    98.76242\n",
      "t     1.23758\n",
      "Name: require_guest_phone_verification, dtype: float64\n"
     ]
    }
   ],
   "source": [
    "print(\"(x%) require guest phone verif\")\n",
    "print((listings[\"require_guest_phone_verification\"].value_counts())/len(listings)*100)"
   ]
  },
  {
   "cell_type": "code",
   "execution_count": 36,
   "metadata": {},
   "outputs": [
    {
     "name": "stdout",
     "output_type": "stream",
     "text": [
      "(x%) require guest profile pic\n",
      "f    99.30802\n",
      "t     0.69198\n",
      "Name: require_guest_profile_picture, dtype: float64\n"
     ]
    }
   ],
   "source": [
    "print(\"(x%) require guest profile pic\")\n",
    "print((listings[\"require_guest_profile_picture\"].value_counts())/len(listings)*100)"
   ]
  },
  {
   "cell_type": "markdown",
   "metadata": {},
   "source": [
    "99.3% required guest profile pic: possible biased <b>discrimination behaviour?</b>"
   ]
  },
  {
   "cell_type": "code",
   "execution_count": 37,
   "metadata": {},
   "outputs": [
    {
     "data": {
      "text/html": [
       "<div>\n",
       "<style scoped>\n",
       "    .dataframe tbody tr th:only-of-type {\n",
       "        vertical-align: middle;\n",
       "    }\n",
       "\n",
       "    .dataframe tbody tr th {\n",
       "        vertical-align: top;\n",
       "    }\n",
       "\n",
       "    .dataframe thead th {\n",
       "        text-align: right;\n",
       "    }\n",
       "</style>\n",
       "<table border=\"1\" class=\"dataframe\">\n",
       "  <thead>\n",
       "    <tr style=\"text-align: right;\">\n",
       "      <th></th>\n",
       "      <th>listing_id</th>\n",
       "      <th>date</th>\n",
       "      <th>available</th>\n",
       "    </tr>\n",
       "  </thead>\n",
       "  <tbody>\n",
       "    <tr>\n",
       "      <th>0</th>\n",
       "      <td>2015</td>\n",
       "      <td>2019-09-10</td>\n",
       "      <td>f</td>\n",
       "    </tr>\n",
       "    <tr>\n",
       "      <th>1</th>\n",
       "      <td>2015</td>\n",
       "      <td>2019-09-09</td>\n",
       "      <td>f</td>\n",
       "    </tr>\n",
       "    <tr>\n",
       "      <th>2</th>\n",
       "      <td>2015</td>\n",
       "      <td>2019-09-08</td>\n",
       "      <td>f</td>\n",
       "    </tr>\n",
       "    <tr>\n",
       "      <th>3</th>\n",
       "      <td>2015</td>\n",
       "      <td>2019-09-07</td>\n",
       "      <td>f</td>\n",
       "    </tr>\n",
       "    <tr>\n",
       "      <th>4</th>\n",
       "      <td>2015</td>\n",
       "      <td>2019-09-06</td>\n",
       "      <td>f</td>\n",
       "    </tr>\n",
       "    <tr>\n",
       "      <th>...</th>\n",
       "      <td>...</td>\n",
       "      <td>...</td>\n",
       "      <td>...</td>\n",
       "    </tr>\n",
       "    <tr>\n",
       "      <th>8231475</th>\n",
       "      <td>29809357</td>\n",
       "      <td>2018-11-11</td>\n",
       "      <td>f</td>\n",
       "    </tr>\n",
       "    <tr>\n",
       "      <th>8231476</th>\n",
       "      <td>29809357</td>\n",
       "      <td>2018-11-10</td>\n",
       "      <td>f</td>\n",
       "    </tr>\n",
       "    <tr>\n",
       "      <th>8231477</th>\n",
       "      <td>29809357</td>\n",
       "      <td>2018-11-09</td>\n",
       "      <td>f</td>\n",
       "    </tr>\n",
       "    <tr>\n",
       "      <th>8231478</th>\n",
       "      <td>29809357</td>\n",
       "      <td>2018-11-08</td>\n",
       "      <td>f</td>\n",
       "    </tr>\n",
       "    <tr>\n",
       "      <th>8231479</th>\n",
       "      <td>29809357</td>\n",
       "      <td>2018-11-07</td>\n",
       "      <td>f</td>\n",
       "    </tr>\n",
       "  </tbody>\n",
       "</table>\n",
       "<p>8231480 rows × 3 columns</p>\n",
       "</div>"
      ],
      "text/plain": [
       "         listing_id        date available\n",
       "0              2015  2019-09-10         f\n",
       "1              2015  2019-09-09         f\n",
       "2              2015  2019-09-08         f\n",
       "3              2015  2019-09-07         f\n",
       "4              2015  2019-09-06         f\n",
       "...             ...         ...       ...\n",
       "8231475    29809357  2018-11-11         f\n",
       "8231476    29809357  2018-11-10         f\n",
       "8231477    29809357  2018-11-09         f\n",
       "8231478    29809357  2018-11-08         f\n",
       "8231479    29809357  2018-11-07         f\n",
       "\n",
       "[8231480 rows x 3 columns]"
      ]
     },
     "execution_count": 37,
     "metadata": {},
     "output_type": "execute_result"
    }
   ],
   "source": [
    "calendar_summary"
   ]
  },
  {
   "cell_type": "code",
   "execution_count": 38,
   "metadata": {},
   "outputs": [
    {
     "data": {
      "text/html": [
       "<div>\n",
       "<style scoped>\n",
       "    .dataframe tbody tr th:only-of-type {\n",
       "        vertical-align: middle;\n",
       "    }\n",
       "\n",
       "    .dataframe tbody tr th {\n",
       "        vertical-align: top;\n",
       "    }\n",
       "\n",
       "    .dataframe thead th {\n",
       "        text-align: right;\n",
       "    }\n",
       "</style>\n",
       "<table border=\"1\" class=\"dataframe\">\n",
       "  <thead>\n",
       "    <tr style=\"text-align: right;\">\n",
       "      <th></th>\n",
       "      <th>listing_id</th>\n",
       "      <th>date</th>\n",
       "      <th>available</th>\n",
       "    </tr>\n",
       "  </thead>\n",
       "  <tbody>\n",
       "    <tr>\n",
       "      <th>0</th>\n",
       "      <td>2015</td>\n",
       "      <td>2019-09-10</td>\n",
       "      <td>f</td>\n",
       "    </tr>\n",
       "    <tr>\n",
       "      <th>1</th>\n",
       "      <td>2015</td>\n",
       "      <td>2019-09-09</td>\n",
       "      <td>f</td>\n",
       "    </tr>\n",
       "    <tr>\n",
       "      <th>2</th>\n",
       "      <td>2015</td>\n",
       "      <td>2019-09-08</td>\n",
       "      <td>f</td>\n",
       "    </tr>\n",
       "    <tr>\n",
       "      <th>3</th>\n",
       "      <td>2015</td>\n",
       "      <td>2019-09-07</td>\n",
       "      <td>f</td>\n",
       "    </tr>\n",
       "    <tr>\n",
       "      <th>4</th>\n",
       "      <td>2015</td>\n",
       "      <td>2019-09-06</td>\n",
       "      <td>f</td>\n",
       "    </tr>\n",
       "    <tr>\n",
       "      <th>5</th>\n",
       "      <td>2015</td>\n",
       "      <td>2019-09-05</td>\n",
       "      <td>f</td>\n",
       "    </tr>\n",
       "    <tr>\n",
       "      <th>6</th>\n",
       "      <td>2015</td>\n",
       "      <td>2019-09-04</td>\n",
       "      <td>f</td>\n",
       "    </tr>\n",
       "    <tr>\n",
       "      <th>7</th>\n",
       "      <td>2015</td>\n",
       "      <td>2019-09-03</td>\n",
       "      <td>f</td>\n",
       "    </tr>\n",
       "    <tr>\n",
       "      <th>8</th>\n",
       "      <td>2015</td>\n",
       "      <td>2019-09-02</td>\n",
       "      <td>f</td>\n",
       "    </tr>\n",
       "    <tr>\n",
       "      <th>9</th>\n",
       "      <td>2015</td>\n",
       "      <td>2019-09-01</td>\n",
       "      <td>f</td>\n",
       "    </tr>\n",
       "  </tbody>\n",
       "</table>\n",
       "</div>"
      ],
      "text/plain": [
       "   listing_id        date available\n",
       "0        2015  2019-09-10         f\n",
       "1        2015  2019-09-09         f\n",
       "2        2015  2019-09-08         f\n",
       "3        2015  2019-09-07         f\n",
       "4        2015  2019-09-06         f\n",
       "5        2015  2019-09-05         f\n",
       "6        2015  2019-09-04         f\n",
       "7        2015  2019-09-03         f\n",
       "8        2015  2019-09-02         f\n",
       "9        2015  2019-09-01         f"
      ]
     },
     "execution_count": 38,
     "metadata": {},
     "output_type": "execute_result"
    }
   ],
   "source": [
    "calendar_summary.head(10)"
   ]
  },
  {
   "cell_type": "code",
   "execution_count": 39,
   "metadata": {},
   "outputs": [
    {
     "data": {
      "text/plain": [
       "22552"
      ]
     },
     "execution_count": 39,
     "metadata": {},
     "output_type": "execute_result"
    }
   ],
   "source": [
    "calendar_summary[\"listing_id\"].value_counts().count()\n",
    "#22552 unique listings on calendar summary > 22544 unique listings on listings dataframe"
   ]
  },
  {
   "cell_type": "code",
   "execution_count": 40,
   "metadata": {},
   "outputs": [],
   "source": [
    "import datetime"
   ]
  },
  {
   "cell_type": "code",
   "execution_count": 41,
   "metadata": {},
   "outputs": [],
   "source": [
    "calendar_summary[\"date_datetime\"] = pd.to_datetime(calendar_summary[\"date\"], format='%Y-%m-%d')\n",
    "#create date column with datetime format in order to be able to perform operations with the dates"
   ]
  },
  {
   "cell_type": "code",
   "execution_count": 42,
   "metadata": {},
   "outputs": [
    {
     "data": {
      "text/html": [
       "<div>\n",
       "<style scoped>\n",
       "    .dataframe tbody tr th:only-of-type {\n",
       "        vertical-align: middle;\n",
       "    }\n",
       "\n",
       "    .dataframe tbody tr th {\n",
       "        vertical-align: top;\n",
       "    }\n",
       "\n",
       "    .dataframe thead th {\n",
       "        text-align: right;\n",
       "    }\n",
       "</style>\n",
       "<table border=\"1\" class=\"dataframe\">\n",
       "  <thead>\n",
       "    <tr style=\"text-align: right;\">\n",
       "      <th></th>\n",
       "      <th>listing_id</th>\n",
       "      <th>date</th>\n",
       "      <th>available</th>\n",
       "      <th>date_datetime</th>\n",
       "    </tr>\n",
       "  </thead>\n",
       "  <tbody>\n",
       "    <tr>\n",
       "      <th>0</th>\n",
       "      <td>2015</td>\n",
       "      <td>2019-09-10</td>\n",
       "      <td>f</td>\n",
       "      <td>2019-09-10</td>\n",
       "    </tr>\n",
       "    <tr>\n",
       "      <th>1</th>\n",
       "      <td>2015</td>\n",
       "      <td>2019-09-09</td>\n",
       "      <td>f</td>\n",
       "      <td>2019-09-09</td>\n",
       "    </tr>\n",
       "    <tr>\n",
       "      <th>2</th>\n",
       "      <td>2015</td>\n",
       "      <td>2019-09-08</td>\n",
       "      <td>f</td>\n",
       "      <td>2019-09-08</td>\n",
       "    </tr>\n",
       "    <tr>\n",
       "      <th>3</th>\n",
       "      <td>2015</td>\n",
       "      <td>2019-09-07</td>\n",
       "      <td>f</td>\n",
       "      <td>2019-09-07</td>\n",
       "    </tr>\n",
       "    <tr>\n",
       "      <th>4</th>\n",
       "      <td>2015</td>\n",
       "      <td>2019-09-06</td>\n",
       "      <td>f</td>\n",
       "      <td>2019-09-06</td>\n",
       "    </tr>\n",
       "    <tr>\n",
       "      <th>...</th>\n",
       "      <td>...</td>\n",
       "      <td>...</td>\n",
       "      <td>...</td>\n",
       "      <td>...</td>\n",
       "    </tr>\n",
       "    <tr>\n",
       "      <th>8231475</th>\n",
       "      <td>29809357</td>\n",
       "      <td>2018-11-11</td>\n",
       "      <td>f</td>\n",
       "      <td>2018-11-11</td>\n",
       "    </tr>\n",
       "    <tr>\n",
       "      <th>8231476</th>\n",
       "      <td>29809357</td>\n",
       "      <td>2018-11-10</td>\n",
       "      <td>f</td>\n",
       "      <td>2018-11-10</td>\n",
       "    </tr>\n",
       "    <tr>\n",
       "      <th>8231477</th>\n",
       "      <td>29809357</td>\n",
       "      <td>2018-11-09</td>\n",
       "      <td>f</td>\n",
       "      <td>2018-11-09</td>\n",
       "    </tr>\n",
       "    <tr>\n",
       "      <th>8231478</th>\n",
       "      <td>29809357</td>\n",
       "      <td>2018-11-08</td>\n",
       "      <td>f</td>\n",
       "      <td>2018-11-08</td>\n",
       "    </tr>\n",
       "    <tr>\n",
       "      <th>8231479</th>\n",
       "      <td>29809357</td>\n",
       "      <td>2018-11-07</td>\n",
       "      <td>f</td>\n",
       "      <td>2018-11-07</td>\n",
       "    </tr>\n",
       "  </tbody>\n",
       "</table>\n",
       "<p>8231480 rows × 4 columns</p>\n",
       "</div>"
      ],
      "text/plain": [
       "         listing_id        date available date_datetime\n",
       "0              2015  2019-09-10         f    2019-09-10\n",
       "1              2015  2019-09-09         f    2019-09-09\n",
       "2              2015  2019-09-08         f    2019-09-08\n",
       "3              2015  2019-09-07         f    2019-09-07\n",
       "4              2015  2019-09-06         f    2019-09-06\n",
       "...             ...         ...       ...           ...\n",
       "8231475    29809357  2018-11-11         f    2018-11-11\n",
       "8231476    29809357  2018-11-10         f    2018-11-10\n",
       "8231477    29809357  2018-11-09         f    2018-11-09\n",
       "8231478    29809357  2018-11-08         f    2018-11-08\n",
       "8231479    29809357  2018-11-07         f    2018-11-07\n",
       "\n",
       "[8231480 rows x 4 columns]"
      ]
     },
     "execution_count": 42,
     "metadata": {},
     "output_type": "execute_result"
    }
   ],
   "source": [
    "calendar_summary"
   ]
  },
  {
   "cell_type": "code",
   "execution_count": 43,
   "metadata": {},
   "outputs": [],
   "source": [
    "calendar_summary = calendar_summary.drop(\"date\", axis=1)"
   ]
  },
  {
   "cell_type": "code",
   "execution_count": 44,
   "metadata": {},
   "outputs": [
    {
     "data": {
      "text/html": [
       "<div>\n",
       "<style scoped>\n",
       "    .dataframe tbody tr th:only-of-type {\n",
       "        vertical-align: middle;\n",
       "    }\n",
       "\n",
       "    .dataframe tbody tr th {\n",
       "        vertical-align: top;\n",
       "    }\n",
       "\n",
       "    .dataframe thead th {\n",
       "        text-align: right;\n",
       "    }\n",
       "</style>\n",
       "<table border=\"1\" class=\"dataframe\">\n",
       "  <thead>\n",
       "    <tr style=\"text-align: right;\">\n",
       "      <th></th>\n",
       "      <th>listing_id</th>\n",
       "      <th>available</th>\n",
       "      <th>date_datetime</th>\n",
       "    </tr>\n",
       "  </thead>\n",
       "  <tbody>\n",
       "    <tr>\n",
       "      <th>0</th>\n",
       "      <td>2015</td>\n",
       "      <td>f</td>\n",
       "      <td>2019-09-10</td>\n",
       "    </tr>\n",
       "    <tr>\n",
       "      <th>1</th>\n",
       "      <td>2015</td>\n",
       "      <td>f</td>\n",
       "      <td>2019-09-09</td>\n",
       "    </tr>\n",
       "    <tr>\n",
       "      <th>2</th>\n",
       "      <td>2015</td>\n",
       "      <td>f</td>\n",
       "      <td>2019-09-08</td>\n",
       "    </tr>\n",
       "    <tr>\n",
       "      <th>3</th>\n",
       "      <td>2015</td>\n",
       "      <td>f</td>\n",
       "      <td>2019-09-07</td>\n",
       "    </tr>\n",
       "    <tr>\n",
       "      <th>4</th>\n",
       "      <td>2015</td>\n",
       "      <td>f</td>\n",
       "      <td>2019-09-06</td>\n",
       "    </tr>\n",
       "    <tr>\n",
       "      <th>...</th>\n",
       "      <td>...</td>\n",
       "      <td>...</td>\n",
       "      <td>...</td>\n",
       "    </tr>\n",
       "    <tr>\n",
       "      <th>8231475</th>\n",
       "      <td>29809357</td>\n",
       "      <td>f</td>\n",
       "      <td>2018-11-11</td>\n",
       "    </tr>\n",
       "    <tr>\n",
       "      <th>8231476</th>\n",
       "      <td>29809357</td>\n",
       "      <td>f</td>\n",
       "      <td>2018-11-10</td>\n",
       "    </tr>\n",
       "    <tr>\n",
       "      <th>8231477</th>\n",
       "      <td>29809357</td>\n",
       "      <td>f</td>\n",
       "      <td>2018-11-09</td>\n",
       "    </tr>\n",
       "    <tr>\n",
       "      <th>8231478</th>\n",
       "      <td>29809357</td>\n",
       "      <td>f</td>\n",
       "      <td>2018-11-08</td>\n",
       "    </tr>\n",
       "    <tr>\n",
       "      <th>8231479</th>\n",
       "      <td>29809357</td>\n",
       "      <td>f</td>\n",
       "      <td>2018-11-07</td>\n",
       "    </tr>\n",
       "  </tbody>\n",
       "</table>\n",
       "<p>8231480 rows × 3 columns</p>\n",
       "</div>"
      ],
      "text/plain": [
       "         listing_id available date_datetime\n",
       "0              2015         f    2019-09-10\n",
       "1              2015         f    2019-09-09\n",
       "2              2015         f    2019-09-08\n",
       "3              2015         f    2019-09-07\n",
       "4              2015         f    2019-09-06\n",
       "...             ...       ...           ...\n",
       "8231475    29809357         f    2018-11-11\n",
       "8231476    29809357         f    2018-11-10\n",
       "8231477    29809357         f    2018-11-09\n",
       "8231478    29809357         f    2018-11-08\n",
       "8231479    29809357         f    2018-11-07\n",
       "\n",
       "[8231480 rows x 3 columns]"
      ]
     },
     "execution_count": 44,
     "metadata": {},
     "output_type": "execute_result"
    }
   ],
   "source": [
    "calendar_summary"
   ]
  },
  {
   "cell_type": "code",
   "execution_count": 45,
   "metadata": {},
   "outputs": [
    {
     "data": {
      "text/plain": [
       "Timedelta('307 days 00:00:00')"
      ]
     },
     "execution_count": 45,
     "metadata": {},
     "output_type": "execute_result"
    }
   ],
   "source": [
    "calendar_summary[\"date_datetime\"][0]-calendar_summary[\"date_datetime\"][8231479]"
   ]
  },
  {
   "cell_type": "code",
   "execution_count": 46,
   "metadata": {},
   "outputs": [
    {
     "data": {
      "text/plain": [
       "0           9\n",
       "1           9\n",
       "2           9\n",
       "3           9\n",
       "4           9\n",
       "           ..\n",
       "8231475    11\n",
       "8231476    11\n",
       "8231477    11\n",
       "8231478    11\n",
       "8231479    11\n",
       "Name: date_datetime, Length: 8231480, dtype: int64"
      ]
     },
     "execution_count": 46,
     "metadata": {},
     "output_type": "execute_result"
    }
   ],
   "source": [
    "calendar_summary[\"date_datetime\"].dt.month"
   ]
  },
  {
   "cell_type": "code",
   "execution_count": 47,
   "metadata": {},
   "outputs": [],
   "source": [
    "calendar_summary['month'] = calendar_summary['date_datetime'].dt.month"
   ]
  },
  {
   "cell_type": "code",
   "execution_count": 48,
   "metadata": {},
   "outputs": [],
   "source": [
    "calendar_summary['year'] = calendar_summary['date_datetime'].dt.year"
   ]
  },
  {
   "cell_type": "code",
   "execution_count": 49,
   "metadata": {},
   "outputs": [],
   "source": [
    "calendar_summary = calendar_summary.sort_values(by=\"date_datetime\",ascending=False)"
   ]
  },
  {
   "cell_type": "code",
   "execution_count": 55,
   "metadata": {},
   "outputs": [],
   "source": [
    "calendar_summary = calendar_summary.reset_index()\n",
    "calendar_summary = calendar_summary.drop(\"index\", axis=1)"
   ]
  },
  {
   "cell_type": "code",
   "execution_count": 56,
   "metadata": {},
   "outputs": [
    {
     "data": {
      "text/html": [
       "<div>\n",
       "<style scoped>\n",
       "    .dataframe tbody tr th:only-of-type {\n",
       "        vertical-align: middle;\n",
       "    }\n",
       "\n",
       "    .dataframe tbody tr th {\n",
       "        vertical-align: top;\n",
       "    }\n",
       "\n",
       "    .dataframe thead th {\n",
       "        text-align: right;\n",
       "    }\n",
       "</style>\n",
       "<table border=\"1\" class=\"dataframe\">\n",
       "  <thead>\n",
       "    <tr style=\"text-align: right;\">\n",
       "      <th></th>\n",
       "      <th>listing_id</th>\n",
       "      <th>available</th>\n",
       "      <th>date_datetime</th>\n",
       "      <th>month</th>\n",
       "      <th>year</th>\n",
       "    </tr>\n",
       "  </thead>\n",
       "  <tbody>\n",
       "    <tr>\n",
       "      <th>0</th>\n",
       "      <td>14831972</td>\n",
       "      <td>t</td>\n",
       "      <td>2019-11-08</td>\n",
       "      <td>11</td>\n",
       "      <td>2019</td>\n",
       "    </tr>\n",
       "    <tr>\n",
       "      <th>1</th>\n",
       "      <td>5798346</td>\n",
       "      <td>f</td>\n",
       "      <td>2019-11-08</td>\n",
       "      <td>11</td>\n",
       "      <td>2019</td>\n",
       "    </tr>\n",
       "    <tr>\n",
       "      <th>2</th>\n",
       "      <td>18836877</td>\n",
       "      <td>f</td>\n",
       "      <td>2019-11-08</td>\n",
       "      <td>11</td>\n",
       "      <td>2019</td>\n",
       "    </tr>\n",
       "    <tr>\n",
       "      <th>3</th>\n",
       "      <td>14831972</td>\n",
       "      <td>t</td>\n",
       "      <td>2019-11-07</td>\n",
       "      <td>11</td>\n",
       "      <td>2019</td>\n",
       "    </tr>\n",
       "    <tr>\n",
       "      <th>4</th>\n",
       "      <td>5798346</td>\n",
       "      <td>f</td>\n",
       "      <td>2019-11-07</td>\n",
       "      <td>11</td>\n",
       "      <td>2019</td>\n",
       "    </tr>\n",
       "    <tr>\n",
       "      <th>...</th>\n",
       "      <td>...</td>\n",
       "      <td>...</td>\n",
       "      <td>...</td>\n",
       "      <td>...</td>\n",
       "      <td>...</td>\n",
       "    </tr>\n",
       "    <tr>\n",
       "      <th>8231475</th>\n",
       "      <td>17221202</td>\n",
       "      <td>f</td>\n",
       "      <td>2018-11-07</td>\n",
       "      <td>11</td>\n",
       "      <td>2018</td>\n",
       "    </tr>\n",
       "    <tr>\n",
       "      <th>8231476</th>\n",
       "      <td>2541994</td>\n",
       "      <td>t</td>\n",
       "      <td>2018-11-07</td>\n",
       "      <td>11</td>\n",
       "      <td>2018</td>\n",
       "    </tr>\n",
       "    <tr>\n",
       "      <th>8231477</th>\n",
       "      <td>22646454</td>\n",
       "      <td>f</td>\n",
       "      <td>2018-11-07</td>\n",
       "      <td>11</td>\n",
       "      <td>2018</td>\n",
       "    </tr>\n",
       "    <tr>\n",
       "      <th>8231478</th>\n",
       "      <td>22699927</td>\n",
       "      <td>f</td>\n",
       "      <td>2018-11-07</td>\n",
       "      <td>11</td>\n",
       "      <td>2018</td>\n",
       "    </tr>\n",
       "    <tr>\n",
       "      <th>8231479</th>\n",
       "      <td>29809357</td>\n",
       "      <td>f</td>\n",
       "      <td>2018-11-07</td>\n",
       "      <td>11</td>\n",
       "      <td>2018</td>\n",
       "    </tr>\n",
       "  </tbody>\n",
       "</table>\n",
       "<p>8231480 rows × 5 columns</p>\n",
       "</div>"
      ],
      "text/plain": [
       "         listing_id available date_datetime  month  year\n",
       "0          14831972         t    2019-11-08     11  2019\n",
       "1           5798346         f    2019-11-08     11  2019\n",
       "2          18836877         f    2019-11-08     11  2019\n",
       "3          14831972         t    2019-11-07     11  2019\n",
       "4           5798346         f    2019-11-07     11  2019\n",
       "...             ...       ...           ...    ...   ...\n",
       "8231475    17221202         f    2018-11-07     11  2018\n",
       "8231476     2541994         t    2018-11-07     11  2018\n",
       "8231477    22646454         f    2018-11-07     11  2018\n",
       "8231478    22699927         f    2018-11-07     11  2018\n",
       "8231479    29809357         f    2018-11-07     11  2018\n",
       "\n",
       "[8231480 rows x 5 columns]"
      ]
     },
     "execution_count": 56,
     "metadata": {},
     "output_type": "execute_result"
    }
   ],
   "source": [
    "calendar_summary"
   ]
  },
  {
   "cell_type": "code",
   "execution_count": 57,
   "metadata": {},
   "outputs": [
    {
     "data": {
      "text/plain": [
       "Timedelta('366 days 00:00:00')"
      ]
     },
     "execution_count": 57,
     "metadata": {},
     "output_type": "execute_result"
    }
   ],
   "source": [
    "calendar_summary[\"date_datetime\"][0]-calendar_summary[\"date_datetime\"][8231479]"
   ]
  },
  {
   "cell_type": "code",
   "execution_count": 61,
   "metadata": {},
   "outputs": [],
   "source": [
    "cs2019 = calendar_summary.loc[calendar_summary[\"year\"]==2019]"
   ]
  },
  {
   "cell_type": "code",
   "execution_count": 62,
   "metadata": {},
   "outputs": [
    {
     "data": {
      "text/html": [
       "<div>\n",
       "<style scoped>\n",
       "    .dataframe tbody tr th:only-of-type {\n",
       "        vertical-align: middle;\n",
       "    }\n",
       "\n",
       "    .dataframe tbody tr th {\n",
       "        vertical-align: top;\n",
       "    }\n",
       "\n",
       "    .dataframe thead th {\n",
       "        text-align: right;\n",
       "    }\n",
       "</style>\n",
       "<table border=\"1\" class=\"dataframe\">\n",
       "  <thead>\n",
       "    <tr style=\"text-align: right;\">\n",
       "      <th></th>\n",
       "      <th>listing_id</th>\n",
       "      <th>available</th>\n",
       "      <th>date_datetime</th>\n",
       "      <th>month</th>\n",
       "      <th>year</th>\n",
       "    </tr>\n",
       "  </thead>\n",
       "  <tbody>\n",
       "    <tr>\n",
       "      <th>0</th>\n",
       "      <td>14831972</td>\n",
       "      <td>t</td>\n",
       "      <td>2019-11-08</td>\n",
       "      <td>11</td>\n",
       "      <td>2019</td>\n",
       "    </tr>\n",
       "    <tr>\n",
       "      <th>1</th>\n",
       "      <td>5798346</td>\n",
       "      <td>f</td>\n",
       "      <td>2019-11-08</td>\n",
       "      <td>11</td>\n",
       "      <td>2019</td>\n",
       "    </tr>\n",
       "    <tr>\n",
       "      <th>2</th>\n",
       "      <td>18836877</td>\n",
       "      <td>f</td>\n",
       "      <td>2019-11-08</td>\n",
       "      <td>11</td>\n",
       "      <td>2019</td>\n",
       "    </tr>\n",
       "    <tr>\n",
       "      <th>3</th>\n",
       "      <td>14831972</td>\n",
       "      <td>t</td>\n",
       "      <td>2019-11-07</td>\n",
       "      <td>11</td>\n",
       "      <td>2019</td>\n",
       "    </tr>\n",
       "    <tr>\n",
       "      <th>4</th>\n",
       "      <td>5798346</td>\n",
       "      <td>f</td>\n",
       "      <td>2019-11-07</td>\n",
       "      <td>11</td>\n",
       "      <td>2019</td>\n",
       "    </tr>\n",
       "    <tr>\n",
       "      <th>...</th>\n",
       "      <td>...</td>\n",
       "      <td>...</td>\n",
       "      <td>...</td>\n",
       "      <td>...</td>\n",
       "      <td>...</td>\n",
       "    </tr>\n",
       "    <tr>\n",
       "      <th>6991121</th>\n",
       "      <td>19763101</td>\n",
       "      <td>f</td>\n",
       "      <td>2019-01-01</td>\n",
       "      <td>1</td>\n",
       "      <td>2019</td>\n",
       "    </tr>\n",
       "    <tr>\n",
       "      <th>6991122</th>\n",
       "      <td>21092563</td>\n",
       "      <td>f</td>\n",
       "      <td>2019-01-01</td>\n",
       "      <td>1</td>\n",
       "      <td>2019</td>\n",
       "    </tr>\n",
       "    <tr>\n",
       "      <th>6991123</th>\n",
       "      <td>17841139</td>\n",
       "      <td>f</td>\n",
       "      <td>2019-01-01</td>\n",
       "      <td>1</td>\n",
       "      <td>2019</td>\n",
       "    </tr>\n",
       "    <tr>\n",
       "      <th>6991124</th>\n",
       "      <td>11765418</td>\n",
       "      <td>f</td>\n",
       "      <td>2019-01-01</td>\n",
       "      <td>1</td>\n",
       "      <td>2019</td>\n",
       "    </tr>\n",
       "    <tr>\n",
       "      <th>6991125</th>\n",
       "      <td>29426812</td>\n",
       "      <td>f</td>\n",
       "      <td>2019-01-01</td>\n",
       "      <td>1</td>\n",
       "      <td>2019</td>\n",
       "    </tr>\n",
       "  </tbody>\n",
       "</table>\n",
       "<p>6991126 rows × 5 columns</p>\n",
       "</div>"
      ],
      "text/plain": [
       "         listing_id available date_datetime  month  year\n",
       "0          14831972         t    2019-11-08     11  2019\n",
       "1           5798346         f    2019-11-08     11  2019\n",
       "2          18836877         f    2019-11-08     11  2019\n",
       "3          14831972         t    2019-11-07     11  2019\n",
       "4           5798346         f    2019-11-07     11  2019\n",
       "...             ...       ...           ...    ...   ...\n",
       "6991121    19763101         f    2019-01-01      1  2019\n",
       "6991122    21092563         f    2019-01-01      1  2019\n",
       "6991123    17841139         f    2019-01-01      1  2019\n",
       "6991124    11765418         f    2019-01-01      1  2019\n",
       "6991125    29426812         f    2019-01-01      1  2019\n",
       "\n",
       "[6991126 rows x 5 columns]"
      ]
     },
     "execution_count": 62,
     "metadata": {},
     "output_type": "execute_result"
    }
   ],
   "source": [
    "cs2019"
   ]
  },
  {
   "cell_type": "code",
   "execution_count": 80,
   "metadata": {},
   "outputs": [
    {
     "data": {
      "text/plain": [
       "31    22552\n",
       "Name: listing_id, dtype: int64"
      ]
     },
     "execution_count": 80,
     "metadata": {},
     "output_type": "execute_result"
    }
   ],
   "source": [
    "cs2019.loc[cs2019[\"month\"]==1][\"listing_id\"].value_counts().value_counts()"
   ]
  },
  {
   "cell_type": "code",
   "execution_count": 82,
   "metadata": {},
   "outputs": [
    {
     "data": {
      "text/plain": [
       "f    503074\n",
       "t    196038\n",
       "Name: available, dtype: int64"
      ]
     },
     "execution_count": 82,
     "metadata": {},
     "output_type": "execute_result"
    }
   ],
   "source": [
    "cs2019.loc[cs2019[\"month\"]==1][\"available\"].value_counts()"
   ]
  },
  {
   "cell_type": "code",
   "execution_count": 83,
   "metadata": {},
   "outputs": [
    {
     "data": {
      "text/plain": [
       "699112"
      ]
     },
     "execution_count": 83,
     "metadata": {},
     "output_type": "execute_result"
    }
   ],
   "source": [
    "cs2019.loc[cs2019[\"month\"]==1][\"available\"].value_counts().sum()"
   ]
  },
  {
   "cell_type": "code",
   "execution_count": 84,
   "metadata": {},
   "outputs": [
    {
     "data": {
      "text/plain": [
       "699112"
      ]
     },
     "execution_count": 84,
     "metadata": {},
     "output_type": "execute_result"
    }
   ],
   "source": [
    "22552*31"
   ]
  },
  {
   "cell_type": "code",
   "execution_count": 98,
   "metadata": {},
   "outputs": [],
   "source": [
    "te = cs2019[\"available\"].groupby(cs2019[\"month\"]).value_counts()"
   ]
  },
  {
   "cell_type": "code",
   "execution_count": 100,
   "metadata": {},
   "outputs": [
    {
     "data": {
      "text/plain": [
       "month  available\n",
       "1      f            503074\n",
       "       t            196038\n",
       "2      f            477362\n",
       "       t            154094\n",
       "3      f            529743\n",
       "       t            169369\n",
       "4      f            506749\n",
       "       t            169811\n",
       "5      f            553373\n",
       "       t            145739\n",
       "6      f            542413\n",
       "       t            134147\n",
       "7      f            554795\n",
       "       t            144317\n",
       "8      f            556334\n",
       "       t            142778\n",
       "9      f            535612\n",
       "       t            140948\n",
       "10     f            550439\n",
       "       t            148673\n",
       "11     f            106319\n",
       "       t             28999\n",
       "Name: available, dtype: int64"
      ]
     },
     "execution_count": 100,
     "metadata": {},
     "output_type": "execute_result"
    }
   ],
   "source": [
    "te"
   ]
  },
  {
   "cell_type": "code",
   "execution_count": 111,
   "metadata": {},
   "outputs": [],
   "source": [
    "true_av = []\n",
    "for i in range(12):\n",
    "    if i==0:\n",
    "        pass\n",
    "    else:\n",
    "        s = te[i][1]\n",
    "        true_av.append(s)"
   ]
  },
  {
   "cell_type": "code",
   "execution_count": 144,
   "metadata": {},
   "outputs": [
    {
     "data": {
      "text/plain": [
       "[<matplotlib.lines.Line2D at 0x17e86d850>]"
      ]
     },
     "execution_count": 144,
     "metadata": {},
     "output_type": "execute_result"
    },
    {
     "data": {
      "image/png": "[encoded data removed]",
      "text/plain": [
       "<Figure size 432x288 with 1 Axes>"
      ]
     },
     "metadata": {},
     "output_type": "display_data"
    }
   ],
   "source": [
    "plt.title(\"Available accumulated available listings p/ day by month\")\n",
    "plt.plot([1,2,3,4,5,6,7,8,9,10,11],true_av)"
   ]
  },
  {
   "cell_type": "code",
   "execution_count": 153,
   "metadata": {},
   "outputs": [
    {
     "data": {
      "text/plain": [
       "<BarContainer object of 11 artists>"
      ]
     },
     "execution_count": 153,
     "metadata": {},
     "output_type": "execute_result"
    },
    {
     "data": {
      "image/png": "[encoded data removed]",
      "text/plain": [
       "<Figure size 720x360 with 1 Axes>"
      ]
     },
     "metadata": {},
     "output_type": "display_data"
    }
   ],
   "source": [
    "plt.figure(figsize=(10,5))\n",
    "plt.title(\"Available accumulated available listings p/ day by month (2019) until Nov\")\n",
    "plt.plot([1,2,3,4,5,6,7,8,9,10,11],true_av, color=\"yellow\")\n",
    "plt.bar([1,2,3,4,5,6,7,8,9,10,11],true_av, alpha=0.6, color=\"white\")"
   ]
  },
  {
   "cell_type": "markdown",
   "metadata": {},
   "source": [
    "The data of 2019 stops at November, so that's why the graph stops at Nov. too. Anyways, my hypothesis is that December may be even a busiest month than november because of Christmas and New Year. For experementing purposes only, I'll compare the 2018 data of Nov vs Dec. to have an approximate idea of what Dec. may have looked like in 2019."
   ]
  },
  {
   "cell_type": "code",
   "execution_count": 156,
   "metadata": {},
   "outputs": [
    {
     "data": {
      "text/html": [
       "<div>\n",
       "<style scoped>\n",
       "    .dataframe tbody tr th:only-of-type {\n",
       "        vertical-align: middle;\n",
       "    }\n",
       "\n",
       "    .dataframe tbody tr th {\n",
       "        vertical-align: top;\n",
       "    }\n",
       "\n",
       "    .dataframe thead th {\n",
       "        text-align: right;\n",
       "    }\n",
       "</style>\n",
       "<table border=\"1\" class=\"dataframe\">\n",
       "  <thead>\n",
       "    <tr style=\"text-align: right;\">\n",
       "      <th></th>\n",
       "      <th>listing_id</th>\n",
       "      <th>available</th>\n",
       "      <th>date_datetime</th>\n",
       "      <th>month</th>\n",
       "      <th>year</th>\n",
       "    </tr>\n",
       "  </thead>\n",
       "  <tbody>\n",
       "    <tr>\n",
       "      <th>6991126</th>\n",
       "      <td>986324</td>\n",
       "      <td>f</td>\n",
       "      <td>2018-12-31</td>\n",
       "      <td>12</td>\n",
       "      <td>2018</td>\n",
       "    </tr>\n",
       "    <tr>\n",
       "      <th>6991127</th>\n",
       "      <td>25477258</td>\n",
       "      <td>f</td>\n",
       "      <td>2018-12-31</td>\n",
       "      <td>12</td>\n",
       "      <td>2018</td>\n",
       "    </tr>\n",
       "    <tr>\n",
       "      <th>6991128</th>\n",
       "      <td>27712888</td>\n",
       "      <td>f</td>\n",
       "      <td>2018-12-31</td>\n",
       "      <td>12</td>\n",
       "      <td>2018</td>\n",
       "    </tr>\n",
       "    <tr>\n",
       "      <th>6991129</th>\n",
       "      <td>15459784</td>\n",
       "      <td>f</td>\n",
       "      <td>2018-12-31</td>\n",
       "      <td>12</td>\n",
       "      <td>2018</td>\n",
       "    </tr>\n",
       "    <tr>\n",
       "      <th>6991130</th>\n",
       "      <td>768330</td>\n",
       "      <td>f</td>\n",
       "      <td>2018-12-31</td>\n",
       "      <td>12</td>\n",
       "      <td>2018</td>\n",
       "    </tr>\n",
       "    <tr>\n",
       "      <th>...</th>\n",
       "      <td>...</td>\n",
       "      <td>...</td>\n",
       "      <td>...</td>\n",
       "      <td>...</td>\n",
       "      <td>...</td>\n",
       "    </tr>\n",
       "    <tr>\n",
       "      <th>8231475</th>\n",
       "      <td>17221202</td>\n",
       "      <td>f</td>\n",
       "      <td>2018-11-07</td>\n",
       "      <td>11</td>\n",
       "      <td>2018</td>\n",
       "    </tr>\n",
       "    <tr>\n",
       "      <th>8231476</th>\n",
       "      <td>2541994</td>\n",
       "      <td>t</td>\n",
       "      <td>2018-11-07</td>\n",
       "      <td>11</td>\n",
       "      <td>2018</td>\n",
       "    </tr>\n",
       "    <tr>\n",
       "      <th>8231477</th>\n",
       "      <td>22646454</td>\n",
       "      <td>f</td>\n",
       "      <td>2018-11-07</td>\n",
       "      <td>11</td>\n",
       "      <td>2018</td>\n",
       "    </tr>\n",
       "    <tr>\n",
       "      <th>8231478</th>\n",
       "      <td>22699927</td>\n",
       "      <td>f</td>\n",
       "      <td>2018-11-07</td>\n",
       "      <td>11</td>\n",
       "      <td>2018</td>\n",
       "    </tr>\n",
       "    <tr>\n",
       "      <th>8231479</th>\n",
       "      <td>29809357</td>\n",
       "      <td>f</td>\n",
       "      <td>2018-11-07</td>\n",
       "      <td>11</td>\n",
       "      <td>2018</td>\n",
       "    </tr>\n",
       "  </tbody>\n",
       "</table>\n",
       "<p>1240354 rows × 5 columns</p>\n",
       "</div>"
      ],
      "text/plain": [
       "         listing_id available date_datetime  month  year\n",
       "6991126      986324         f    2018-12-31     12  2018\n",
       "6991127    25477258         f    2018-12-31     12  2018\n",
       "6991128    27712888         f    2018-12-31     12  2018\n",
       "6991129    15459784         f    2018-12-31     12  2018\n",
       "6991130      768330         f    2018-12-31     12  2018\n",
       "...             ...       ...           ...    ...   ...\n",
       "8231475    17221202         f    2018-11-07     11  2018\n",
       "8231476     2541994         t    2018-11-07     11  2018\n",
       "8231477    22646454         f    2018-11-07     11  2018\n",
       "8231478    22699927         f    2018-11-07     11  2018\n",
       "8231479    29809357         f    2018-11-07     11  2018\n",
       "\n",
       "[1240354 rows x 5 columns]"
      ]
     },
     "execution_count": 156,
     "metadata": {},
     "output_type": "execute_result"
    }
   ],
   "source": [
    "cs2018 = calendar_summary.loc[calendar_summary[\"year\"]==2018]\n",
    "cs2018\n",
    "#note: the data fails to measure the days from 0 to 6 of nov"
   ]
  },
  {
   "cell_type": "code",
   "execution_count": 161,
   "metadata": {},
   "outputs": [
    {
     "data": {
      "text/plain": [
       "541242"
      ]
     },
     "execution_count": 161,
     "metadata": {},
     "output_type": "execute_result"
    }
   ],
   "source": [
    "cs2018.loc[cs2018[\"month\"]==11][\"available\"].value_counts().sum()"
   ]
  },
  {
   "cell_type": "code",
   "execution_count": 160,
   "metadata": {},
   "outputs": [
    {
     "data": {
      "text/plain": [
       "699112"
      ]
     },
     "execution_count": 160,
     "metadata": {},
     "output_type": "execute_result"
    }
   ],
   "source": [
    "cs2018.loc[cs2018[\"month\"]==12][\"available\"].value_counts().sum()"
   ]
  },
  {
   "cell_type": "code",
   "execution_count": 162,
   "metadata": {},
   "outputs": [
    {
     "data": {
      "text/plain": [
       "f    456325\n",
       "t     84917\n",
       "Name: available, dtype: int64"
      ]
     },
     "execution_count": 162,
     "metadata": {},
     "output_type": "execute_result"
    }
   ],
   "source": [
    "cs2018.loc[cs2018[\"month\"]==11][\"available\"].value_counts()"
   ]
  },
  {
   "cell_type": "code",
   "execution_count": 163,
   "metadata": {},
   "outputs": [
    {
     "data": {
      "text/plain": [
       "f    558101\n",
       "t    141011\n",
       "Name: available, dtype: int64"
      ]
     },
     "execution_count": 163,
     "metadata": {},
     "output_type": "execute_result"
    }
   ],
   "source": [
    "cs2018.loc[cs2018[\"month\"]==12][\"available\"].value_counts()"
   ]
  },
  {
   "cell_type": "code",
   "execution_count": 180,
   "metadata": {},
   "outputs": [
    {
     "data": {
      "text/plain": [
       "[<matplotlib.lines.Line2D at 0x1821372b0>]"
      ]
     },
     "execution_count": 180,
     "metadata": {},
     "output_type": "execute_result"
    },
    {
     "data": {
      "image/png": "[encoded data removed]",
      "text/plain": [
       "<Figure size 720x360 with 1 Axes>"
      ]
     },
     "metadata": {},
     "output_type": "display_data"
    }
   ],
   "source": [
    "plt.figure(figsize=(10,5))\n",
    "plt.title(\"Available accumulated available listings p/ day by month (2018): Nov vs Dec\")\n",
    "plt.bar([11,12],[84917,141011], width=0.5, alpha=0.6, color=\"white\")\n",
    "plt.plot([11,12],[84917,141011], color=\"yellow\")"
   ]
  },
  {
   "cell_type": "markdown",
   "metadata": {},
   "source": [
    "Contrary to what I believed, december seems to be a less busy month than november. Anyways, there are some skews in the 2018 listings calendar data such as the amount of days each month counts and the amount of listings between both months; so I wouldn't jump into a 100% accurate conclusion. Nonetheless, it would be coherent and factible that december could be a less busy month."
   ]
  },
  {
   "cell_type": "code",
   "execution_count": null,
   "metadata": {},
   "outputs": [],
   "source": []
  }
 ],
 "metadata": {
  "kernelspec": {
   "display_name": "Python 3",
   "language": "python",
   "name": "python3"
  },
  "language_info": {
   "codemirror_mode": {
    "name": "ipython",
    "version": 3
   },
   "file_extension": ".py",
   "mimetype": "text/x-python",
   "name": "python",
   "nbconvert_exporter": "python",
   "pygments_lexer": "ipython3",
   "version": "3.8.3"
  }
 },
 "nbformat": 4,
 "nbformat_minor": 4
}
