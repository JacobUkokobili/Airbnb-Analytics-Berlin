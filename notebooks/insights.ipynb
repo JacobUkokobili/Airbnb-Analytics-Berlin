{
 "cells": [
  {
   "cell_type": "code",
   "execution_count": 1,
   "metadata": {},
   "outputs": [],
   "source": [
    "import pandas as pd\n",
    "import numpy as np\n",
    "import matplotlib.pyplot as plt\n",
    "import scipy.stats"
   ]
  },
  {
   "cell_type": "code",
   "execution_count": 2,
   "metadata": {},
   "outputs": [],
   "source": [
    "listings = pd.read_csv(\"../../cleaned/listings.csv\")\n",
    "calendar_summary = pd.read_csv(\"../../cleaned/calendar_summary.csv\")\n",
    "#legacy (local) directories not available on repo - wrangled/cleaned data uploaded to ivanachille.com/publicdata/Airbnb-Berlin-Analytics"
   ]
  },
  {
   "cell_type": "code",
   "execution_count": 3,
   "metadata": {},
   "outputs": [
    {
     "data": {
      "text/html": [
       "<div>\n",
       "<style scoped>\n",
       "    .dataframe tbody tr th:only-of-type {\n",
       "        vertical-align: middle;\n",
       "    }\n",
       "\n",
       "    .dataframe tbody tr th {\n",
       "        vertical-align: top;\n",
       "    }\n",
       "\n",
       "    .dataframe thead th {\n",
       "        text-align: right;\n",
       "    }\n",
       "</style>\n",
       "<table border=\"1\" class=\"dataframe\">\n",
       "  <thead>\n",
       "    <tr style=\"text-align: right;\">\n",
       "      <th></th>\n",
       "      <th>listing_id</th>\n",
       "      <th>host_id</th>\n",
       "      <th>neighbourhood_group</th>\n",
       "      <th>neighbourhood</th>\n",
       "      <th>latitude</th>\n",
       "      <th>longitude</th>\n",
       "      <th>room_type</th>\n",
       "      <th>price</th>\n",
       "      <th>minimum_nights</th>\n",
       "      <th>number_of_reviews</th>\n",
       "      <th>reviews_per_month</th>\n",
       "      <th>calculated_host_listings_count</th>\n",
       "      <th>availability_365</th>\n",
       "      <th>instant_bookable</th>\n",
       "      <th>is_business_travel_ready</th>\n",
       "      <th>require_guest_phone_verification</th>\n",
       "      <th>require_guest_profile_picture</th>\n",
       "    </tr>\n",
       "  </thead>\n",
       "  <tbody>\n",
       "    <tr>\n",
       "      <th>0</th>\n",
       "      <td>2015</td>\n",
       "      <td>2217</td>\n",
       "      <td>Mitte</td>\n",
       "      <td>Brunnenstr. Süd</td>\n",
       "      <td>52.534537</td>\n",
       "      <td>13.402557</td>\n",
       "      <td>Entire home/apt</td>\n",
       "      <td>60</td>\n",
       "      <td>4</td>\n",
       "      <td>118</td>\n",
       "      <td>3.76</td>\n",
       "      <td>4</td>\n",
       "      <td>141</td>\n",
       "      <td>f</td>\n",
       "      <td>f</td>\n",
       "      <td>f</td>\n",
       "      <td>f</td>\n",
       "    </tr>\n",
       "    <tr>\n",
       "      <th>1</th>\n",
       "      <td>2695</td>\n",
       "      <td>2986</td>\n",
       "      <td>Pankow</td>\n",
       "      <td>Prenzlauer Berg Nordwest</td>\n",
       "      <td>52.548513</td>\n",
       "      <td>13.404553</td>\n",
       "      <td>Private room</td>\n",
       "      <td>17</td>\n",
       "      <td>2</td>\n",
       "      <td>6</td>\n",
       "      <td>1.42</td>\n",
       "      <td>1</td>\n",
       "      <td>0</td>\n",
       "      <td>f</td>\n",
       "      <td>f</td>\n",
       "      <td>f</td>\n",
       "      <td>f</td>\n",
       "    </tr>\n",
       "    <tr>\n",
       "      <th>2</th>\n",
       "      <td>3176</td>\n",
       "      <td>3718</td>\n",
       "      <td>Pankow</td>\n",
       "      <td>Prenzlauer Berg Südwest</td>\n",
       "      <td>52.534996</td>\n",
       "      <td>13.417579</td>\n",
       "      <td>Entire home/apt</td>\n",
       "      <td>90</td>\n",
       "      <td>62</td>\n",
       "      <td>143</td>\n",
       "      <td>1.25</td>\n",
       "      <td>1</td>\n",
       "      <td>220</td>\n",
       "      <td>t</td>\n",
       "      <td>f</td>\n",
       "      <td>f</td>\n",
       "      <td>f</td>\n",
       "    </tr>\n",
       "    <tr>\n",
       "      <th>3</th>\n",
       "      <td>3309</td>\n",
       "      <td>4108</td>\n",
       "      <td>Tempelhof - Schöneberg</td>\n",
       "      <td>Schöneberg-Nord</td>\n",
       "      <td>52.498855</td>\n",
       "      <td>13.349065</td>\n",
       "      <td>Private room</td>\n",
       "      <td>26</td>\n",
       "      <td>5</td>\n",
       "      <td>25</td>\n",
       "      <td>0.39</td>\n",
       "      <td>1</td>\n",
       "      <td>297</td>\n",
       "      <td>f</td>\n",
       "      <td>f</td>\n",
       "      <td>f</td>\n",
       "      <td>f</td>\n",
       "    </tr>\n",
       "    <tr>\n",
       "      <th>4</th>\n",
       "      <td>7071</td>\n",
       "      <td>17391</td>\n",
       "      <td>Pankow</td>\n",
       "      <td>Helmholtzplatz</td>\n",
       "      <td>52.543157</td>\n",
       "      <td>13.415091</td>\n",
       "      <td>Private room</td>\n",
       "      <td>42</td>\n",
       "      <td>2</td>\n",
       "      <td>197</td>\n",
       "      <td>1.75</td>\n",
       "      <td>1</td>\n",
       "      <td>26</td>\n",
       "      <td>f</td>\n",
       "      <td>f</td>\n",
       "      <td>f</td>\n",
       "      <td>f</td>\n",
       "    </tr>\n",
       "    <tr>\n",
       "      <th>...</th>\n",
       "      <td>...</td>\n",
       "      <td>...</td>\n",
       "      <td>...</td>\n",
       "      <td>...</td>\n",
       "      <td>...</td>\n",
       "      <td>...</td>\n",
       "      <td>...</td>\n",
       "      <td>...</td>\n",
       "      <td>...</td>\n",
       "      <td>...</td>\n",
       "      <td>...</td>\n",
       "      <td>...</td>\n",
       "      <td>...</td>\n",
       "      <td>...</td>\n",
       "      <td>...</td>\n",
       "      <td>...</td>\n",
       "      <td>...</td>\n",
       "    </tr>\n",
       "    <tr>\n",
       "      <th>22539</th>\n",
       "      <td>29856708</td>\n",
       "      <td>87555909</td>\n",
       "      <td>Mitte</td>\n",
       "      <td>Brunnenstr. Süd</td>\n",
       "      <td>52.533865</td>\n",
       "      <td>13.400731</td>\n",
       "      <td>Entire home/apt</td>\n",
       "      <td>60</td>\n",
       "      <td>2</td>\n",
       "      <td>0</td>\n",
       "      <td>NaN</td>\n",
       "      <td>1</td>\n",
       "      <td>314</td>\n",
       "      <td>f</td>\n",
       "      <td>f</td>\n",
       "      <td>f</td>\n",
       "      <td>f</td>\n",
       "    </tr>\n",
       "    <tr>\n",
       "      <th>22540</th>\n",
       "      <td>29857108</td>\n",
       "      <td>67537363</td>\n",
       "      <td>Tempelhof - Schöneberg</td>\n",
       "      <td>Schöneberg-Nord</td>\n",
       "      <td>52.496211</td>\n",
       "      <td>13.341738</td>\n",
       "      <td>Shared room</td>\n",
       "      <td>20</td>\n",
       "      <td>1</td>\n",
       "      <td>0</td>\n",
       "      <td>NaN</td>\n",
       "      <td>6</td>\n",
       "      <td>78</td>\n",
       "      <td>t</td>\n",
       "      <td>f</td>\n",
       "      <td>f</td>\n",
       "      <td>f</td>\n",
       "    </tr>\n",
       "    <tr>\n",
       "      <th>22541</th>\n",
       "      <td>29864272</td>\n",
       "      <td>3146923</td>\n",
       "      <td>Pankow</td>\n",
       "      <td>Prenzlauer Berg Südwest</td>\n",
       "      <td>52.531800</td>\n",
       "      <td>13.411999</td>\n",
       "      <td>Entire home/apt</td>\n",
       "      <td>85</td>\n",
       "      <td>3</td>\n",
       "      <td>0</td>\n",
       "      <td>NaN</td>\n",
       "      <td>2</td>\n",
       "      <td>15</td>\n",
       "      <td>f</td>\n",
       "      <td>f</td>\n",
       "      <td>f</td>\n",
       "      <td>f</td>\n",
       "    </tr>\n",
       "    <tr>\n",
       "      <th>22542</th>\n",
       "      <td>29866805</td>\n",
       "      <td>36961901</td>\n",
       "      <td>Mitte</td>\n",
       "      <td>Alexanderplatz</td>\n",
       "      <td>52.520802</td>\n",
       "      <td>13.378688</td>\n",
       "      <td>Private room</td>\n",
       "      <td>99</td>\n",
       "      <td>1</td>\n",
       "      <td>0</td>\n",
       "      <td>NaN</td>\n",
       "      <td>3</td>\n",
       "      <td>6</td>\n",
       "      <td>f</td>\n",
       "      <td>f</td>\n",
       "      <td>f</td>\n",
       "      <td>f</td>\n",
       "    </tr>\n",
       "    <tr>\n",
       "      <th>22543</th>\n",
       "      <td>29867352</td>\n",
       "      <td>177464875</td>\n",
       "      <td>Neukölln</td>\n",
       "      <td>Schillerpromenade</td>\n",
       "      <td>52.473762</td>\n",
       "      <td>13.424447</td>\n",
       "      <td>Private room</td>\n",
       "      <td>45</td>\n",
       "      <td>5</td>\n",
       "      <td>0</td>\n",
       "      <td>NaN</td>\n",
       "      <td>1</td>\n",
       "      <td>21</td>\n",
       "      <td>f</td>\n",
       "      <td>f</td>\n",
       "      <td>f</td>\n",
       "      <td>f</td>\n",
       "    </tr>\n",
       "  </tbody>\n",
       "</table>\n",
       "<p>22544 rows × 17 columns</p>\n",
       "</div>"
      ],
      "text/plain": [
       "       listing_id    host_id     neighbourhood_group  \\\n",
       "0            2015       2217                   Mitte   \n",
       "1            2695       2986                  Pankow   \n",
       "2            3176       3718                  Pankow   \n",
       "3            3309       4108  Tempelhof - Schöneberg   \n",
       "4            7071      17391                  Pankow   \n",
       "...           ...        ...                     ...   \n",
       "22539    29856708   87555909                   Mitte   \n",
       "22540    29857108   67537363  Tempelhof - Schöneberg   \n",
       "22541    29864272    3146923                  Pankow   \n",
       "22542    29866805   36961901                   Mitte   \n",
       "22543    29867352  177464875                Neukölln   \n",
       "\n",
       "                  neighbourhood   latitude  longitude        room_type  price  \\\n",
       "0               Brunnenstr. Süd  52.534537  13.402557  Entire home/apt     60   \n",
       "1      Prenzlauer Berg Nordwest  52.548513  13.404553     Private room     17   \n",
       "2       Prenzlauer Berg Südwest  52.534996  13.417579  Entire home/apt     90   \n",
       "3               Schöneberg-Nord  52.498855  13.349065     Private room     26   \n",
       "4                Helmholtzplatz  52.543157  13.415091     Private room     42   \n",
       "...                         ...        ...        ...              ...    ...   \n",
       "22539           Brunnenstr. Süd  52.533865  13.400731  Entire home/apt     60   \n",
       "22540           Schöneberg-Nord  52.496211  13.341738      Shared room     20   \n",
       "22541   Prenzlauer Berg Südwest  52.531800  13.411999  Entire home/apt     85   \n",
       "22542            Alexanderplatz  52.520802  13.378688     Private room     99   \n",
       "22543         Schillerpromenade  52.473762  13.424447     Private room     45   \n",
       "\n",
       "       minimum_nights  number_of_reviews  reviews_per_month  \\\n",
       "0                   4                118               3.76   \n",
       "1                   2                  6               1.42   \n",
       "2                  62                143               1.25   \n",
       "3                   5                 25               0.39   \n",
       "4                   2                197               1.75   \n",
       "...               ...                ...                ...   \n",
       "22539               2                  0                NaN   \n",
       "22540               1                  0                NaN   \n",
       "22541               3                  0                NaN   \n",
       "22542               1                  0                NaN   \n",
       "22543               5                  0                NaN   \n",
       "\n",
       "       calculated_host_listings_count  availability_365 instant_bookable  \\\n",
       "0                                   4               141                f   \n",
       "1                                   1                 0                f   \n",
       "2                                   1               220                t   \n",
       "3                                   1               297                f   \n",
       "4                                   1                26                f   \n",
       "...                               ...               ...              ...   \n",
       "22539                               1               314                f   \n",
       "22540                               6                78                t   \n",
       "22541                               2                15                f   \n",
       "22542                               3                 6                f   \n",
       "22543                               1                21                f   \n",
       "\n",
       "      is_business_travel_ready require_guest_phone_verification  \\\n",
       "0                            f                                f   \n",
       "1                            f                                f   \n",
       "2                            f                                f   \n",
       "3                            f                                f   \n",
       "4                            f                                f   \n",
       "...                        ...                              ...   \n",
       "22539                        f                                f   \n",
       "22540                        f                                f   \n",
       "22541                        f                                f   \n",
       "22542                        f                                f   \n",
       "22543                        f                                f   \n",
       "\n",
       "      require_guest_profile_picture  \n",
       "0                                 f  \n",
       "1                                 f  \n",
       "2                                 f  \n",
       "3                                 f  \n",
       "4                                 f  \n",
       "...                             ...  \n",
       "22539                             f  \n",
       "22540                             f  \n",
       "22541                             f  \n",
       "22542                             f  \n",
       "22543                             f  \n",
       "\n",
       "[22544 rows x 17 columns]"
      ]
     },
     "execution_count": 3,
     "metadata": {},
     "output_type": "execute_result"
    }
   ],
   "source": [
    "listings"
   ]
  },
  {
   "cell_type": "code",
   "execution_count": 4,
   "metadata": {},
   "outputs": [
    {
     "data": {
      "text/plain": [
       "(array([2.2451e+04, 5.1000e+01, 7.0000e+00, 1.0000e+00, 5.0000e+00,\n",
       "        2.0000e+00, 1.0000e+00, 0.0000e+00, 0.0000e+00, 1.0000e+00,\n",
       "        0.0000e+00, 2.0000e+00, 0.0000e+00, 2.0000e+01, 0.0000e+00,\n",
       "        0.0000e+00, 0.0000e+00, 1.0000e+00, 0.0000e+00, 2.0000e+00]),\n",
       " array([1.00000e+00, 4.50950e+02, 9.00900e+02, 1.35085e+03, 1.80080e+03,\n",
       "        2.25075e+03, 2.70070e+03, 3.15065e+03, 3.60060e+03, 4.05055e+03,\n",
       "        4.50050e+03, 4.95045e+03, 5.40040e+03, 5.85035e+03, 6.30030e+03,\n",
       "        6.75025e+03, 7.20020e+03, 7.65015e+03, 8.10010e+03, 8.55005e+03,\n",
       "        9.00000e+03]),\n",
       " <a list of 20 Patch objects>)"
      ]
     },
     "execution_count": 4,
     "metadata": {},
     "output_type": "execute_result"
    },
    {
     "data": {
      "image/png": "[encoded data removed]",
      "text/plain": [
       "<Figure size 432x288 with 1 Axes>"
      ]
     },
     "metadata": {
      "needs_background": "light"
     },
     "output_type": "display_data"
    }
   ],
   "source": [
    "pricedata = listings['price']\n",
    "plt.hist(pricedata, color=\"black\", bins=20, log=0.01, edgecolor=\"white\")"
   ]
  },
  {
   "cell_type": "code",
   "execution_count": 5,
   "metadata": {},
   "outputs": [
    {
     "data": {
      "text/plain": [
       "count    22544.000000\n",
       "mean        67.167495\n",
       "std        220.301658\n",
       "min          1.000000\n",
       "25%         30.000000\n",
       "50%         45.000000\n",
       "75%         70.000000\n",
       "max       9000.000000\n",
       "Name: price, dtype: float64"
      ]
     },
     "execution_count": 5,
     "metadata": {},
     "output_type": "execute_result"
    }
   ],
   "source": [
    "pricedata.describe()"
   ]
  },
  {
   "cell_type": "code",
   "execution_count": 12,
   "metadata": {},
   "outputs": [
    {
     "data": {
      "text/plain": [
       "f    22388\n",
       "t      156\n",
       "Name: require_guest_profile_picture, dtype: int64"
      ]
     },
     "execution_count": 12,
     "metadata": {},
     "output_type": "execute_result"
    }
   ],
   "source": [
    "listings[\"require_guest_profile_picture\"].value_counts()"
   ]
  },
  {
   "cell_type": "code",
   "execution_count": 26,
   "metadata": {},
   "outputs": [
    {
     "name": "stdout",
     "output_type": "stream",
     "text": [
      "Private room       11529\n",
      "Entire home/apt    10719\n",
      "Shared room          296\n",
      "Name: room_type, dtype: int64\n"
     ]
    },
    {
     "data": {
      "text/plain": [
       "array([11529, 10719,   296])"
      ]
     },
     "execution_count": 26,
     "metadata": {},
     "output_type": "execute_result"
    }
   ],
   "source": [
    "a = listings[\"room_type\"].value_counts()\n",
    "roomtypes_prop = np.array([a[0],a[1],a[2]])\n",
    "print(a)\n",
    "roomtypes_prop"
   ]
  },
  {
   "cell_type": "code",
   "execution_count": 107,
   "metadata": {},
   "outputs": [
    {
     "data": {
      "text/plain": [
       "<BarContainer object of 3 artists>"
      ]
     },
     "execution_count": 107,
     "metadata": {},
     "output_type": "execute_result"
    },
    {
     "data": {
      "image/png": "[encoded data removed]",
      "text/plain": [
       "<Figure size 432x288 with 1 Axes>"
      ]
     },
     "metadata": {
      "needs_background": "light"
     },
     "output_type": "display_data"
    }
   ],
   "source": [
    "plt.title(\"Room Type Count\")\n",
    "plt.bar([\"Private room\", \"Entire home/apt\", \"Shared room\"],roomtypes_prop, color=['red','orange','green'], width=0.5)"
   ]
  },
  {
   "cell_type": "code",
   "execution_count": 44,
   "metadata": {},
   "outputs": [
    {
     "data": {
      "text/plain": [
       "count    22544.000000\n",
       "mean         7.158801\n",
       "std         40.672178\n",
       "min          1.000000\n",
       "25%          2.000000\n",
       "50%          2.000000\n",
       "75%          4.000000\n",
       "max       5000.000000\n",
       "Name: minimum_nights, dtype: float64"
      ]
     },
     "execution_count": 44,
     "metadata": {},
     "output_type": "execute_result"
    }
   ],
   "source": [
    "listings[\"minimum_nights\"].describe()"
   ]
  },
  {
   "cell_type": "code",
   "execution_count": 51,
   "metadata": {},
   "outputs": [
    {
     "data": {
      "text/plain": [
       "(array([2.2524e+04, 1.4000e+01, 0.0000e+00, 5.0000e+00, 0.0000e+00,\n",
       "        0.0000e+00, 0.0000e+00, 0.0000e+00, 0.0000e+00, 0.0000e+00,\n",
       "        0.0000e+00, 0.0000e+00, 0.0000e+00, 0.0000e+00, 0.0000e+00,\n",
       "        0.0000e+00, 0.0000e+00, 0.0000e+00, 0.0000e+00, 1.0000e+00]),\n",
       " array([1.00000e+00, 2.50950e+02, 5.00900e+02, 7.50850e+02, 1.00080e+03,\n",
       "        1.25075e+03, 1.50070e+03, 1.75065e+03, 2.00060e+03, 2.25055e+03,\n",
       "        2.50050e+03, 2.75045e+03, 3.00040e+03, 3.25035e+03, 3.50030e+03,\n",
       "        3.75025e+03, 4.00020e+03, 4.25015e+03, 4.50010e+03, 4.75005e+03,\n",
       "        5.00000e+03]),\n",
       " <a list of 20 Patch objects>)"
      ]
     },
     "execution_count": 51,
     "metadata": {},
     "output_type": "execute_result"
    },
    {
     "data": {
      "image/png": "[encoded data removed]",
      "text/plain": [
       "<Figure size 432x288 with 1 Axes>"
      ]
     },
     "metadata": {
      "needs_background": "light"
     },
     "output_type": "display_data"
    }
   ],
   "source": [
    "plt.hist(listings[\"minimum_nights\"], color=\"black\", bins=20, log=0.1, edgecolor=\"white\")"
   ]
  },
  {
   "cell_type": "code",
   "execution_count": 57,
   "metadata": {},
   "outputs": [
    {
     "data": {
      "text/plain": [
       "count    22544.000000\n",
       "mean         7.158801\n",
       "std         40.672178\n",
       "min          1.000000\n",
       "25%          2.000000\n",
       "50%          2.000000\n",
       "75%          4.000000\n",
       "max       5000.000000\n",
       "Name: minimum_nights, dtype: float64"
      ]
     },
     "execution_count": 57,
     "metadata": {},
     "output_type": "execute_result"
    }
   ],
   "source": [
    "listings[\"minimum_nights\"].describe()"
   ]
  },
  {
   "cell_type": "code",
   "execution_count": 55,
   "metadata": {},
   "outputs": [
    {
     "data": {
      "text/html": [
       "<div>\n",
       "<style scoped>\n",
       "    .dataframe tbody tr th:only-of-type {\n",
       "        vertical-align: middle;\n",
       "    }\n",
       "\n",
       "    .dataframe tbody tr th {\n",
       "        vertical-align: top;\n",
       "    }\n",
       "\n",
       "    .dataframe thead th {\n",
       "        text-align: right;\n",
       "    }\n",
       "</style>\n",
       "<table border=\"1\" class=\"dataframe\">\n",
       "  <thead>\n",
       "    <tr style=\"text-align: right;\">\n",
       "      <th></th>\n",
       "      <th>listing_id</th>\n",
       "      <th>host_id</th>\n",
       "      <th>latitude</th>\n",
       "      <th>longitude</th>\n",
       "      <th>price</th>\n",
       "      <th>minimum_nights</th>\n",
       "      <th>number_of_reviews</th>\n",
       "      <th>reviews_per_month</th>\n",
       "      <th>calculated_host_listings_count</th>\n",
       "      <th>availability_365</th>\n",
       "    </tr>\n",
       "    <tr>\n",
       "      <th>room_type</th>\n",
       "      <th></th>\n",
       "      <th></th>\n",
       "      <th></th>\n",
       "      <th></th>\n",
       "      <th></th>\n",
       "      <th></th>\n",
       "      <th></th>\n",
       "      <th></th>\n",
       "      <th></th>\n",
       "      <th></th>\n",
       "    </tr>\n",
       "  </thead>\n",
       "  <tbody>\n",
       "    <tr>\n",
       "      <th>Entire home/apt</th>\n",
       "      <td>1.480889e+07</td>\n",
       "      <td>4.950696e+07</td>\n",
       "      <td>52.511071</td>\n",
       "      <td>13.404700</td>\n",
       "      <td>83.372236</td>\n",
       "      <td>10.453214</td>\n",
       "      <td>19.239854</td>\n",
       "      <td>1.102702</td>\n",
       "      <td>2.154865</td>\n",
       "      <td>92.065864</td>\n",
       "    </tr>\n",
       "    <tr>\n",
       "      <th>Private room</th>\n",
       "      <td>1.650580e+07</td>\n",
       "      <td>5.780534e+07</td>\n",
       "      <td>52.508518</td>\n",
       "      <td>13.407519</td>\n",
       "      <td>52.501865</td>\n",
       "      <td>4.183624</td>\n",
       "      <td>16.570908</td>\n",
       "      <td>1.159858</td>\n",
       "      <td>1.547055</td>\n",
       "      <td>67.622430</td>\n",
       "    </tr>\n",
       "    <tr>\n",
       "      <th>Shared room</th>\n",
       "      <td>1.764845e+07</td>\n",
       "      <td>7.111596e+07</td>\n",
       "      <td>52.515741</td>\n",
       "      <td>13.401349</td>\n",
       "      <td>51.564189</td>\n",
       "      <td>3.739865</td>\n",
       "      <td>16.756757</td>\n",
       "      <td>1.397626</td>\n",
       "      <td>7.743243</td>\n",
       "      <td>113.719595</td>\n",
       "    </tr>\n",
       "  </tbody>\n",
       "</table>\n",
       "</div>"
      ],
      "text/plain": [
       "                   listing_id       host_id   latitude  longitude      price  \\\n",
       "room_type                                                                      \n",
       "Entire home/apt  1.480889e+07  4.950696e+07  52.511071  13.404700  83.372236   \n",
       "Private room     1.650580e+07  5.780534e+07  52.508518  13.407519  52.501865   \n",
       "Shared room      1.764845e+07  7.111596e+07  52.515741  13.401349  51.564189   \n",
       "\n",
       "                 minimum_nights  number_of_reviews  reviews_per_month  \\\n",
       "room_type                                                               \n",
       "Entire home/apt       10.453214          19.239854           1.102702   \n",
       "Private room           4.183624          16.570908           1.159858   \n",
       "Shared room            3.739865          16.756757           1.397626   \n",
       "\n",
       "                 calculated_host_listings_count  availability_365  \n",
       "room_type                                                          \n",
       "Entire home/apt                        2.154865         92.065864  \n",
       "Private room                           1.547055         67.622430  \n",
       "Shared room                            7.743243        113.719595  "
      ]
     },
     "execution_count": 55,
     "metadata": {},
     "output_type": "execute_result"
    }
   ],
   "source": [
    "listings.groupby(listings[\"room_type\"]).mean()"
   ]
  },
  {
   "cell_type": "code",
   "execution_count": 65,
   "metadata": {},
   "outputs": [
    {
     "data": {
      "text/plain": [
       "room_type\n",
       "Entire home/apt    3\n",
       "Private room       2\n",
       "Shared room        1\n",
       "Name: minimum_nights, dtype: int64"
      ]
     },
     "execution_count": 65,
     "metadata": {},
     "output_type": "execute_result"
    }
   ],
   "source": [
    "listings.groupby(listings[\"room_type\"])[\"minimum_nights\"].median()"
   ]
  },
  {
   "cell_type": "code",
   "execution_count": 64,
   "metadata": {},
   "outputs": [
    {
     "data": {
      "text/plain": [
       "RangeIndex(start=0, stop=22544, step=1)"
      ]
     },
     "execution_count": 64,
     "metadata": {},
     "output_type": "execute_result"
    }
   ],
   "source": [
    "listings[\"room_type\"].value_counts().index"
   ]
  },
  {
   "cell_type": "code",
   "execution_count": 106,
   "metadata": {},
   "outputs": [
    {
     "data": {
      "text/plain": [
       "<BarContainer object of 3 artists>"
      ]
     },
     "execution_count": 106,
     "metadata": {},
     "output_type": "execute_result"
    },
    {
     "data": {
      "image/png": "[encoded data removed]",
      "text/plain": [
       "<Figure size 432x288 with 1 Axes>"
      ]
     },
     "metadata": {
      "needs_background": "light"
     },
     "output_type": "display_data"
    }
   ],
   "source": [
    "plt.title(\"Median Minimum Nights\")\n",
    "plt.bar(listings[\"room_type\"].value_counts().index,listings.groupby(listings[\"room_type\"])[\"minimum_nights\"].median())"
   ]
  },
  {
   "cell_type": "code",
   "execution_count": 84,
   "metadata": {},
   "outputs": [],
   "source": [
    "listings[\"min_spending\"] = listings[\"minimum_nights\"]*listings[\"price\"]\n",
    "#creation of minimum spending variable, important because this is the \"true price\" of renting that location"
   ]
  },
  {
   "cell_type": "code",
   "execution_count": 85,
   "metadata": {},
   "outputs": [
    {
     "data": {
      "text/plain": [
       "45.0"
      ]
     },
     "execution_count": 85,
     "metadata": {},
     "output_type": "execute_result"
    }
   ],
   "source": [
    "listings[\"price\"].median()\n",
    "#average price p/night"
   ]
  },
  {
   "cell_type": "code",
   "execution_count": 86,
   "metadata": {},
   "outputs": [
    {
     "data": {
      "text/plain": [
       "120.0"
      ]
     },
     "execution_count": 86,
     "metadata": {},
     "output_type": "execute_result"
    }
   ],
   "source": [
    "listings[\"min_spending\"].median()\n",
    "#means that on average, the minimum spending of a reservation is $120"
   ]
  },
  {
   "cell_type": "code",
   "execution_count": 87,
   "metadata": {},
   "outputs": [
    {
     "name": "stdout",
     "output_type": "stream",
     "text": [
      "MEDIAN PRICE PER NIGHT G/BY ROOMTYPE\n",
      "room_type\n",
      "Entire home/apt    65\n",
      "Private room       35\n",
      "Shared room        25\n",
      "Name: price, dtype: int64\n"
     ]
    }
   ],
   "source": [
    "print(\"MEDIAN PRICE PER NIGHT G/BY ROOMTYPE\")\n",
    "print(listings[\"price\"].groupby(listings[\"room_type\"]).median())"
   ]
  },
  {
   "cell_type": "code",
   "execution_count": 88,
   "metadata": {},
   "outputs": [
    {
     "name": "stdout",
     "output_type": "stream",
     "text": [
      "MEDIAN MIN. SPENDING PER NIGHT G/BY ROOMTYPE\n",
      "room_type\n",
      "Entire home/apt    220\n",
      "Private room        80\n",
      "Shared room         34\n",
      "Name: min_spending, dtype: int64\n"
     ]
    }
   ],
   "source": [
    "print(\"MEDIAN MIN. SPENDING PER NIGHT G/BY ROOMTYPE\")\n",
    "print(listings[\"min_spending\"].groupby(listings[\"room_type\"]).median())"
   ]
  },
  {
   "cell_type": "code",
   "execution_count": 99,
   "metadata": {},
   "outputs": [],
   "source": [
    "roomtypes_medms_sorted = listings[\"min_spending\"].groupby(listings[\"room_type\"]).median().index"
   ]
  },
  {
   "cell_type": "code",
   "execution_count": 105,
   "metadata": {},
   "outputs": [
    {
     "data": {
      "text/plain": [
       "<matplotlib.legend.Legend at 0x126079880>"
      ]
     },
     "execution_count": 105,
     "metadata": {},
     "output_type": "execute_result"
    },
    {
     "data": {
      "image/png": "[encoded data removed]",
      "text/plain": [
       "<Figure size 432x288 with 1 Axes>"
      ]
     },
     "metadata": {
      "needs_background": "light"
     },
     "output_type": "display_data"
    }
   ],
   "source": [
    "plt.title(\"Median Price vs Median Min. Spending\")\n",
    "plt.bar(roomtypes,listings[\"price\"].groupby(listings[\"room_type\"]).median(), label=\"Price\", alpha=1)\n",
    "plt.bar(roomtypes,listings[\"min_spending\"].groupby(listings[\"room_type\"]).median(), width=0.3, label=\"Min. Spending\", alpha=0.7)\n",
    "plt.legend()"
   ]
  },
  {
   "cell_type": "code",
   "execution_count": null,
   "metadata": {},
   "outputs": [],
   "source": []
  }
 ],
 "metadata": {
  "kernelspec": {
   "display_name": "Python 3",
   "language": "python",
   "name": "python3"
  },
  "language_info": {
   "codemirror_mode": {
    "name": "ipython",
    "version": 3
   },
   "file_extension": ".py",
   "mimetype": "text/x-python",
   "name": "python",
   "nbconvert_exporter": "python",
   "pygments_lexer": "ipython3",
   "version": "3.8.3"
  }
 },
 "nbformat": 4,
 "nbformat_minor": 4
}
